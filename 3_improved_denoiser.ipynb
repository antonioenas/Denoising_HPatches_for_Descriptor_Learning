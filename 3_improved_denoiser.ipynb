{
  "nbformat": 4,
  "nbformat_minor": 0,
  "metadata": {
    "colab": {
      "name": "3_improved_denoiser.ipynb",
      "version": "0.3.2",
      "provenance": [],
      "include_colab_link": true
    },
    "kernelspec": {
      "name": "python3",
      "display_name": "Python 3"
    },
    "accelerator": "GPU"
  },
  "cells": [
    {
      "cell_type": "markdown",
      "metadata": {
        "id": "view-in-github",
        "colab_type": "text"
      },
      "source": [
        "<a href=\"https://colab.research.google.com/github/antonioenas/Denoising_HPatches_for_Descriptor_Learning/blob/master/3_improved_denoiser.ipynb\" target=\"_parent\"><img src=\"https://colab.research.google.com/assets/colab-badge.svg\" alt=\"Open In Colab\"/></a>"
      ]
    },
    {
      "metadata": {
        "id": "ZInL8SHokoU3",
        "colab_type": "text"
      },
      "cell_type": "markdown",
      "source": [
        "# 3) Improved denoiser - Deep learning coursework, Imperial College London\n",
        "**Antonio Enas, 01070859, AE1115**\n",
        "\n",
        "\n",
        "---\n",
        "\n",
        "In this notebook, the user can generate, train and save the improved denoiser models that have been considered during this project.\n",
        "\n",
        "Structure:\n",
        "1. Environment set up\n",
        "2. Deep UNet, where the baseline model depth is restored to the original architecture. Generation and traing.\n",
        "3. Deep DnCNN, where the original DnCNN network is deployed in this context.\n",
        "4. Fastr-training a shallow regularised DnCNN.\n",
        "5. Stacked shallow DnCNNs adaptive. **Proposed improved method**."
      ]
    },
    {
      "metadata": {
        "id": "6_QUBl_OC0Hv",
        "colab_type": "text"
      },
      "cell_type": "markdown",
      "source": [
        "# 1. Environment set up\n",
        "This section ensures all libraries and dataset are correctly imported.\n",
        "\n",
        "If data is already mounted select:\n",
        "              `import_data = False`"
      ]
    },
    {
      "metadata": {
        "id": "-nm263h1Ae_j",
        "colab_type": "code",
        "colab": {}
      },
      "cell_type": "code",
      "source": [
        "import_data = False"
      ],
      "execution_count": 0,
      "outputs": []
    },
    {
      "metadata": {
        "id": "BUgnMDQT1C67",
        "colab_type": "text"
      },
      "cell_type": "markdown",
      "source": [
        "### Optional GPU check"
      ]
    },
    {
      "metadata": {
        "id": "ZZG4BqkENEyd",
        "colab_type": "code",
        "colab": {}
      },
      "cell_type": "code",
      "source": [
        "# Taken from\n",
        "# https://stackoverflow.com/questions/48750199/google-colaboratory-misleading-information-about-its-gpu-only-5-ram-available\n",
        "# memory footprint support libraries/code\n",
        "!ln -sf /opt/bin/nvidia-smi /usr/bin/nvidia-smi\n",
        "!pip install gputil\n",
        "!pip install psutil\n",
        "!pip install humanize\n",
        "import psutil\n",
        "import humanize\n",
        "import os\n",
        "import GPUtil as GPU\n",
        "GPUs = GPU.getGPUs()\n",
        "# Colab only provides one GPU and it is not always guaranteed\n",
        "gpu = GPUs[0]\n",
        "def printm():\n",
        "  process = psutil.Process(os.getpid())\n",
        "  print(\"RAM Free: \" + humanize.naturalsize( psutil.virtual_memory().available ), \" | Proc size: \" + humanize.naturalsize( process.memory_info().rss))\n",
        "  print(\"GPU RAM Free: {0:.0f}MB | Used: {1:.0f}MB | Util {2:3.0f}% | Total {3:.0f}MB\".format(gpu.memoryFree, gpu.memoryUsed, gpu.memoryUtil*100, gpu.memoryTotal))\n",
        "printm()"
      ],
      "execution_count": 0,
      "outputs": []
    },
    {
      "metadata": {
        "id": "_rUCd3Te1KMl",
        "colab_type": "text"
      },
      "cell_type": "markdown",
      "source": [
        "### Cloning the repository and downloading the data"
      ]
    },
    {
      "metadata": {
        "id": "ytiLXn8wmoQP",
        "colab_type": "code",
        "colab": {
          "base_uri": "https://localhost:8080/",
          "height": 34
        },
        "outputId": "359f7333-2179-4f05-8431-04a44fb730ff"
      },
      "cell_type": "code",
      "source": [
        "if import_data == False:\n",
        "  # Change directory\n",
        "  %cd /content/keras_triplet_descriptor\n",
        "else:\n",
        "  # Clone repo\n",
        "  !git clone https://github.com/MatchLab-Imperial/keras_triplet_descriptor\n",
        "  %cd /content/keras_triplet_descriptor\n",
        "  # Download data\n",
        "  !wget -O hpatches_data.zip https://imperialcollegelondon.box.com/shared/static/ah40eq7cxpwq4a6l4f62efzdyt8rm3ha.zip\n",
        "  # Extract data\n",
        "  !unzip -q ./hpatches_data.zip\n",
        "  !rm ./hpatches_data.zip\n"
      ],
      "execution_count": 2,
      "outputs": [
        {
          "output_type": "stream",
          "text": [
            "/content/keras_triplet_descriptor\n"
          ],
          "name": "stdout"
        }
      ]
    },
    {
      "metadata": {
        "id": "Rjyr96hR_4wS",
        "colab_type": "text"
      },
      "cell_type": "markdown",
      "source": [
        "### Importing Necessary Modules"
      ]
    },
    {
      "metadata": {
        "id": "o0KYfe-at9KN",
        "colab_type": "code",
        "colab": {}
      },
      "cell_type": "code",
      "source": [
        "!pip install -U seaborn\n",
        "\n",
        "import sys\n",
        "import json\n",
        "import os\n",
        "import glob\n",
        "import time\n",
        "import tensorflow as tf\n",
        "import numpy as np\n",
        "import cv2\n",
        "import random\n",
        "\n",
        "import keras\n",
        "from keras import backend as K\n",
        "from keras.models import Sequential, Model\n",
        "from keras.layers import Dense, Dropout, Activation, Flatten, Input, Lambda, Reshape, Subtract\n",
        "from keras.layers import Conv2D, MaxPooling2D, BatchNormalization \n",
        "from keras.layers import Input, UpSampling2D, concatenate  \n",
        "\n",
        "from read_data import HPatches, DataGeneratorDesc, hpatches_sequence_folder, DenoiseHPatches, tps\n",
        "from utils import generate_desc_csv, plot_denoise, plot_triplet\n",
        "\n",
        "# Plotting tools\n",
        "import matplotlib.pyplot as plt\n",
        "import seaborn as sns\n",
        "%matplotlib inline\n",
        "plt.style.use('seaborn-white')\n",
        "plt.rcParams[\"patch.force_edgecolor\"] = True\n",
        "\n",
        "# To download files\n",
        "from google.colab import files\n",
        "\n",
        "from sklearn.decomposition import PCA\n",
        "import pandas as pd"
      ],
      "execution_count": 0,
      "outputs": []
    },
    {
      "metadata": {
        "id": "FwFuggKiFh-Y",
        "colab_type": "code",
        "colab": {}
      },
      "cell_type": "code",
      "source": [
        "random.seed(1234)\n",
        "np.random.seed(1234)\n",
        "tf.set_random_seed(1234)\n",
        "\n",
        "hpatches_dir = './hpatches'\n",
        "splits_path = './splits.json'\n",
        "\n",
        "splits_json = json.load(open(splits_path, 'rb'))\n",
        "split = splits_json['a']\n",
        "\n",
        "train_fnames = split['train']\n",
        "test_fnames = split['test']\n",
        "\n",
        "seqs = glob.glob(hpatches_dir+'/*')\n",
        "seqs = [os.path.abspath(p) for p in seqs]   \n",
        "seqs_train = list(filter(lambda x: x.split('/')[-1] in train_fnames, seqs)) \n",
        "seqs_test = list(filter(lambda x: x.split('/')[-1] in split['test'], seqs)) \n"
      ],
      "execution_count": 0,
      "outputs": []
    },
    {
      "metadata": {
        "id": "FWcrIi9Yj8FZ",
        "colab_type": "text"
      },
      "cell_type": "markdown",
      "source": [
        "# 2. Deep U-Net - Generation, training, saving\n",
        "Here, the baseline denoiser network is extended to the original UNet architecture depth."
      ]
    },
    {
      "metadata": {
        "id": "9OkznXTpkXsC",
        "colab_type": "text"
      },
      "cell_type": "markdown",
      "source": [
        "## Define and compile original deep U-Net architecture."
      ]
    },
    {
      "metadata": {
        "id": "P-DP9TWMkBhw",
        "colab_type": "code",
        "colab": {}
      },
      "cell_type": "code",
      "source": [
        "def get_deep_unet(shape):\n",
        "  \n",
        "  inputs = Input(shape)\n",
        "  \n",
        "  #bn1 = BatchNormalization(axis=3, momentum=0.0,epsilon=0.0001)(inputs)\n",
        "  \n",
        "  conv1 = Conv2D(64, 3, activation = 'relu', padding = 'same', kernel_initializer = 'he_normal')(inputs)\n",
        "  pool1 = MaxPooling2D(pool_size=(2, 2))(conv1)\n",
        "  conv2 = Conv2D(128, 3, activation = 'relu', padding = 'same', kernel_initializer = 'he_normal')(pool1)\n",
        "  pool2 = MaxPooling2D(pool_size=(2, 2))(conv2)\n",
        "  conv3 = Conv2D(256, 3, activation = 'relu', padding = 'same', kernel_initializer = 'he_normal')(pool2)\n",
        "  pool3 = MaxPooling2D(pool_size=(2, 2))(conv3)\n",
        "  conv4 = Conv2D(512, 3, activation = 'relu', padding = 'same', kernel_initializer = 'he_normal')(pool3)\n",
        "  drop4 = Dropout(0.5)(conv4)\n",
        "  pool4 = MaxPooling2D(pool_size=(2, 2))(drop4)\n",
        "\n",
        "  conv5 = Conv2D(1024, 3, activation = 'relu', padding = 'same', kernel_initializer = 'he_normal')(pool4)\n",
        "  drop5 = Dropout(0.5)(conv5)\n",
        "\n",
        "  ## Now the decoder starts\n",
        "\n",
        "  up6 = Conv2D(512, 2, activation = 'relu', padding = 'same', kernel_initializer = 'he_normal')(UpSampling2D(size = (2,2))(drop5))\n",
        "  merge6 = concatenate([drop4,up6], axis = 3)\n",
        "  conv6 = Conv2D(512, 3, activation = 'relu', padding = 'same', kernel_initializer = 'he_normal')(merge6)\n",
        "\n",
        "  up7 = Conv2D(256, 2, activation = 'relu', padding = 'same', kernel_initializer = 'he_normal')(UpSampling2D(size = (2,2))(conv6))\n",
        "  merge7 = concatenate([conv3,up7], axis = 3)\n",
        "  conv7 = Conv2D(256, 3, activation = 'relu', padding = 'same', kernel_initializer = 'he_normal')(merge7)\n",
        "\n",
        "  up8 = Conv2D(128, 2, activation = 'relu', padding = 'same', kernel_initializer = 'he_normal')(UpSampling2D(size = (2,2))(conv7))\n",
        "  merge8 = concatenate([conv2,up8], axis = 3)\n",
        "  conv8 = Conv2D(128, 3, activation = 'relu', padding = 'same', kernel_initializer = 'he_normal')(merge8)\n",
        "\n",
        "  up9 = Conv2D(64, 2, activation = 'relu', padding = 'same', kernel_initializer = 'he_normal')(UpSampling2D(size = (2,2))(conv8))\n",
        "  merge9 = concatenate([conv1,up9], axis = 3)\n",
        "  conv9 = Conv2D(64, 3, activation = 'relu', padding = 'same', kernel_initializer = 'he_normal')(merge9)\n",
        "  conv10 = Conv2D(1, 3,  padding = 'same')(conv9)\n",
        "\n",
        "  deep_net = Model(inputs = inputs, outputs = conv10)\n",
        "  \n",
        "  return deep_net"
      ],
      "execution_count": 0,
      "outputs": []
    },
    {
      "metadata": {
        "colab_type": "text",
        "id": "maB5I04Gq8iI"
      },
      "cell_type": "markdown",
      "source": [
        "There are 76 sequences in the train set. To speed up training, only a portion can be used. It is suggested to use the entire dataset after the first epoch of training onto the smaller sample."
      ]
    },
    {
      "metadata": {
        "colab_type": "code",
        "id": "rRevHHezq8iK",
        "colab": {}
      },
      "cell_type": "code",
      "source": [
        "sequences_train = 3;            # over 76\n",
        "batch_size_gen_denoiser = 50;   # above 200 is not feasable in terms of RAM"
      ],
      "execution_count": 0,
      "outputs": []
    },
    {
      "metadata": {
        "colab_type": "code",
        "outputId": "a2095a2d-ef97-43f2-a4a6-f76a1d2df88f",
        "id": "W5W1EtWaq8iN",
        "colab": {
          "base_uri": "https://localhost:8080/",
          "height": 52
        }
      },
      "cell_type": "code",
      "source": [
        "# Train sequence generator\n",
        "if sequences_train < 76:\n",
        "  denoise_generator = DenoiseHPatches(random.sample(seqs_train, sequences_train), batch_size=50)\n",
        "elif sequences_train == 76:\n",
        "  denoise_generator = DenoiseHPatches(seqs_train, batch_size=50)\n",
        "\n",
        "# Validation sequence generator\n",
        "denoise_generator_val = DenoiseHPatches(seqs_test, batch_size=50)"
      ],
      "execution_count": 7,
      "outputs": [
        {
          "output_type": "stream",
          "text": [
            "100%|██████████| 3/3 [00:03<00:00,  1.20s/it]\n",
            "100%|██████████| 40/40 [00:45<00:00,  1.16it/s]\n"
          ],
          "name": "stderr"
        }
      ]
    },
    {
      "metadata": {
        "id": "mlEEB42UrGT1",
        "colab_type": "text"
      },
      "cell_type": "markdown",
      "source": [
        "Compile model."
      ]
    },
    {
      "metadata": {
        "colab_type": "code",
        "id": "Ktw9g0soq8iU",
        "colab": {}
      },
      "cell_type": "code",
      "source": [
        "# Random seeds\n",
        "random.seed(1234)\n",
        "np.random.seed(1234)\n",
        "tf.set_random_seed(1234)\n",
        "\n",
        "# Input shape\n",
        "ip_shape = (32,32,1)\n",
        "\n",
        "# Compile model\n",
        "denoise_model_deep_unet = get_deep_unet(ip_shape)\n",
        "denoise_model_deep_unet.compile(loss='mean_absolute_error', optimizer='adam')"
      ],
      "execution_count": 0,
      "outputs": []
    },
    {
      "metadata": {
        "colab_type": "text",
        "id": "tGG1Cf8bq8iW"
      },
      "cell_type": "markdown",
      "source": [
        "Print the model summary."
      ]
    },
    {
      "metadata": {
        "colab_type": "code",
        "outputId": "c9cfdb45-190b-491d-fa76-38fafb1d813a",
        "id": "8fd4CXavq8iY",
        "colab": {
          "base_uri": "https://localhost:8080/",
          "height": 1231
        }
      },
      "cell_type": "code",
      "source": [
        "denoise_model_deep_unet.summary()"
      ],
      "execution_count": 13,
      "outputs": [
        {
          "output_type": "stream",
          "text": [
            "__________________________________________________________________________________________________\n",
            "Layer (type)                    Output Shape         Param #     Connected to                     \n",
            "==================================================================================================\n",
            "input_2 (InputLayer)            (None, 32, 32, 1)    0                                            \n",
            "__________________________________________________________________________________________________\n",
            "conv2d_15 (Conv2D)              (None, 32, 32, 64)   640         input_2[0][0]                    \n",
            "__________________________________________________________________________________________________\n",
            "max_pooling2d_5 (MaxPooling2D)  (None, 16, 16, 64)   0           conv2d_15[0][0]                  \n",
            "__________________________________________________________________________________________________\n",
            "conv2d_16 (Conv2D)              (None, 16, 16, 128)  73856       max_pooling2d_5[0][0]            \n",
            "__________________________________________________________________________________________________\n",
            "max_pooling2d_6 (MaxPooling2D)  (None, 8, 8, 128)    0           conv2d_16[0][0]                  \n",
            "__________________________________________________________________________________________________\n",
            "conv2d_17 (Conv2D)              (None, 8, 8, 256)    295168      max_pooling2d_6[0][0]            \n",
            "__________________________________________________________________________________________________\n",
            "max_pooling2d_7 (MaxPooling2D)  (None, 4, 4, 256)    0           conv2d_17[0][0]                  \n",
            "__________________________________________________________________________________________________\n",
            "conv2d_18 (Conv2D)              (None, 4, 4, 512)    1180160     max_pooling2d_7[0][0]            \n",
            "__________________________________________________________________________________________________\n",
            "dropout_3 (Dropout)             (None, 4, 4, 512)    0           conv2d_18[0][0]                  \n",
            "__________________________________________________________________________________________________\n",
            "max_pooling2d_8 (MaxPooling2D)  (None, 2, 2, 512)    0           dropout_3[0][0]                  \n",
            "__________________________________________________________________________________________________\n",
            "conv2d_19 (Conv2D)              (None, 2, 2, 1024)   4719616     max_pooling2d_8[0][0]            \n",
            "__________________________________________________________________________________________________\n",
            "dropout_4 (Dropout)             (None, 2, 2, 1024)   0           conv2d_19[0][0]                  \n",
            "__________________________________________________________________________________________________\n",
            "up_sampling2d_5 (UpSampling2D)  (None, 4, 4, 1024)   0           dropout_4[0][0]                  \n",
            "__________________________________________________________________________________________________\n",
            "conv2d_20 (Conv2D)              (None, 4, 4, 512)    2097664     up_sampling2d_5[0][0]            \n",
            "__________________________________________________________________________________________________\n",
            "concatenate_5 (Concatenate)     (None, 4, 4, 1024)   0           dropout_3[0][0]                  \n",
            "                                                                 conv2d_20[0][0]                  \n",
            "__________________________________________________________________________________________________\n",
            "conv2d_21 (Conv2D)              (None, 4, 4, 512)    4719104     concatenate_5[0][0]              \n",
            "__________________________________________________________________________________________________\n",
            "up_sampling2d_6 (UpSampling2D)  (None, 8, 8, 512)    0           conv2d_21[0][0]                  \n",
            "__________________________________________________________________________________________________\n",
            "conv2d_22 (Conv2D)              (None, 8, 8, 256)    524544      up_sampling2d_6[0][0]            \n",
            "__________________________________________________________________________________________________\n",
            "concatenate_6 (Concatenate)     (None, 8, 8, 512)    0           conv2d_17[0][0]                  \n",
            "                                                                 conv2d_22[0][0]                  \n",
            "__________________________________________________________________________________________________\n",
            "conv2d_23 (Conv2D)              (None, 8, 8, 256)    1179904     concatenate_6[0][0]              \n",
            "__________________________________________________________________________________________________\n",
            "up_sampling2d_7 (UpSampling2D)  (None, 16, 16, 256)  0           conv2d_23[0][0]                  \n",
            "__________________________________________________________________________________________________\n",
            "conv2d_24 (Conv2D)              (None, 16, 16, 128)  131200      up_sampling2d_7[0][0]            \n",
            "__________________________________________________________________________________________________\n",
            "concatenate_7 (Concatenate)     (None, 16, 16, 256)  0           conv2d_16[0][0]                  \n",
            "                                                                 conv2d_24[0][0]                  \n",
            "__________________________________________________________________________________________________\n",
            "conv2d_25 (Conv2D)              (None, 16, 16, 128)  295040      concatenate_7[0][0]              \n",
            "__________________________________________________________________________________________________\n",
            "up_sampling2d_8 (UpSampling2D)  (None, 32, 32, 128)  0           conv2d_25[0][0]                  \n",
            "__________________________________________________________________________________________________\n",
            "conv2d_26 (Conv2D)              (None, 32, 32, 64)   32832       up_sampling2d_8[0][0]            \n",
            "__________________________________________________________________________________________________\n",
            "concatenate_8 (Concatenate)     (None, 32, 32, 128)  0           conv2d_15[0][0]                  \n",
            "                                                                 conv2d_26[0][0]                  \n",
            "__________________________________________________________________________________________________\n",
            "conv2d_27 (Conv2D)              (None, 32, 32, 64)   73792       concatenate_8[0][0]              \n",
            "__________________________________________________________________________________________________\n",
            "conv2d_28 (Conv2D)              (None, 32, 32, 1)    577         conv2d_27[0][0]                  \n",
            "==================================================================================================\n",
            "Total params: 15,324,097\n",
            "Trainable params: 15,324,097\n",
            "Non-trainable params: 0\n",
            "__________________________________________________________________________________________________\n"
          ],
          "name": "stdout"
        }
      ]
    },
    {
      "metadata": {
        "id": "om9q0yynkjPY",
        "colab_type": "text"
      },
      "cell_type": "markdown",
      "source": [
        "## Training of deep unet"
      ]
    },
    {
      "metadata": {
        "id": "ZsYMWAnNrskX",
        "colab_type": "text"
      },
      "cell_type": "markdown",
      "source": [
        "### I. First epoch"
      ]
    },
    {
      "metadata": {
        "id": "edwbgE6yKqcD",
        "colab_type": "code",
        "outputId": "cba41e8a-ab85-4317-a120-d506b4f9a19e",
        "colab": {
          "base_uri": "https://localhost:8080/",
          "height": 125
        }
      },
      "cell_type": "code",
      "source": [
        "# Train model\n",
        "den_deep_unet_hist = denoise_model_deep_unet.fit_generator(\n",
        "                                              generator=denoise_generator,\n",
        "                                              epochs=1,\n",
        "                                              verbose=1,\n",
        "                                              validation_data=denoise_generator_val)\n"
      ],
      "execution_count": 14,
      "outputs": [
        {
          "output_type": "stream",
          "text": [
            "WARNING:tensorflow:From /usr/local/lib/python3.6/dist-packages/tensorflow/python/ops/math_ops.py:3066: to_int32 (from tensorflow.python.ops.math_ops) is deprecated and will be removed in a future version.\n",
            "Instructions for updating:\n",
            "Use tf.cast instead.\n",
            "Epoch 1/1\n",
            "1275/1275 [==============================] - 922s 723ms/step - loss: 15.7974 - val_loss: 5.5384\n"
          ],
          "name": "stdout"
        }
      ]
    },
    {
      "metadata": {
        "id": "94GR2x4jcDDB",
        "colab_type": "text"
      },
      "cell_type": "markdown",
      "source": [
        "Save the model for future use in the evaluation section."
      ]
    },
    {
      "metadata": {
        "id": "Ap5qltqOcLXb",
        "colab_type": "code",
        "colab": {}
      },
      "cell_type": "code",
      "source": [
        "# Save model\n",
        "denoise_model_deep_unet.save('den_deep_unet_1e.h5') \n",
        "# Upload model\n",
        "!curl -F \"file=@den_deep_unet_1e.h5\" https://file.io"
      ],
      "execution_count": 0,
      "outputs": []
    },
    {
      "metadata": {
        "id": "9_oEhSvjfRUl",
        "colab_type": "code",
        "colab": {}
      },
      "cell_type": "code",
      "source": [
        "den_deep_unet_loss = den_deep_unet_hist.history['loss']\n",
        "den_deep_unet_val_loss = den_deep_unet_hist.history['val_loss']"
      ],
      "execution_count": 0,
      "outputs": []
    },
    {
      "metadata": {
        "id": "0QpJXPAwsbSx",
        "colab_type": "text"
      },
      "cell_type": "markdown",
      "source": [
        "### II. Full training"
      ]
    },
    {
      "metadata": {
        "id": "ThRBlxaBVdhE",
        "colab_type": "code",
        "colab": {}
      },
      "cell_type": "code",
      "source": [
        "full_training_epochs = 10"
      ],
      "execution_count": 0,
      "outputs": []
    },
    {
      "metadata": {
        "id": "RI-3OoPtg98P",
        "colab_type": "code",
        "colab": {}
      },
      "cell_type": "code",
      "source": [
        "den_deep_unet_hist = denoise_model_deep_unet.fit_generator(generator=denoise_generator, \n",
        "                                                epochs=full_training_epochs-1, verbose=1, \n",
        "                                                validation_data=denoise_generator_val)"
      ],
      "execution_count": 0,
      "outputs": []
    },
    {
      "metadata": {
        "id": "HeAvFqtFfmwH",
        "colab_type": "text"
      },
      "cell_type": "markdown",
      "source": [
        "Save the model after 10 epochs of training."
      ]
    },
    {
      "metadata": {
        "id": "aeaRbzKzfqq7",
        "colab_type": "code",
        "outputId": "7aa6cab6-8374-49c4-fbe8-e1110f704b82",
        "colab": {
          "base_uri": "https://localhost:8080/",
          "height": 34
        }
      },
      "cell_type": "code",
      "source": [
        "# Save model\n",
        "denoise_model.save('den_deep_unet_10e.h5') \n",
        "# Upload model\n",
        "!curl -F \"file=@den_deep_unet_10e.h5\" https://file.io"
      ],
      "execution_count": 0,
      "outputs": [
        {
          "output_type": "stream",
          "text": [
            "{\"success\":true,\"key\":\"YzqssW\",\"link\":\"https://file.io/YzqssW\",\"expiry\":\"14 days\"}"
          ],
          "name": "stdout"
        }
      ]
    },
    {
      "metadata": {
        "id": "h32ekbVsfmBD",
        "colab_type": "code",
        "colab": {}
      },
      "cell_type": "code",
      "source": [
        "den_deep_unet_loss.extend(den_deep_unet_hist.history['loss'])\n",
        "den_deep_unet_val_loss.extend(den_deep_unet_hist.history['val_loss'])"
      ],
      "execution_count": 0,
      "outputs": []
    },
    {
      "metadata": {
        "id": "_nEiqaP_bFYs",
        "colab_type": "text"
      },
      "cell_type": "markdown",
      "source": [
        "Plot learning curves."
      ]
    },
    {
      "metadata": {
        "colab_type": "code",
        "id": "_TlmnkH_Ubpk",
        "colab": {}
      },
      "cell_type": "code",
      "source": [
        "# Mean absolute error\n",
        "plt.plot(np.arange(1,11), den_deep_unet_loss)\n",
        "plt.plot(np.arange(1,11), den_deep_unet_val_loss)\n",
        "\n",
        "plt.title('Deep UNet denoiser learning curve', fontsize = 18)\n",
        "plt.ylabel('MAE', fontsize = 16)\n",
        "plt.xlabel('Epoch', fontsize = 16)\n",
        "plt.legend(['Train loss','Validation loss'])"
      ],
      "execution_count": 0,
      "outputs": []
    },
    {
      "metadata": {
        "id": "TOxeSH-SxqER",
        "colab_type": "text"
      },
      "cell_type": "markdown",
      "source": [
        "# 3. Deep DnCNN - Generation, training, saving\n",
        "Here, a state of the art deep denoiser network is tested."
      ]
    },
    {
      "metadata": {
        "id": "jtK5OS9Hkugj",
        "colab_type": "text"
      },
      "cell_type": "markdown",
      "source": [
        "## Define and compile original deep DnCNN architecture."
      ]
    },
    {
      "metadata": {
        "id": "Sh6kWw-kxuUI",
        "colab_type": "code",
        "colab": {}
      },
      "cell_type": "code",
      "source": [
        "def get_deep_dncnn(shape):\n",
        "  \n",
        "  # Original depth for Gaussian noise\n",
        "  depth = 17\n",
        "  filters = 64\n",
        "  # Input definition\n",
        "  layer_count = 0\n",
        "  inpt = Input(shape, name = 'input'+str(layer_count))\n",
        "  \n",
        "  \n",
        "  # 1st layer, Conv+relu\n",
        "  layer_count += 1\n",
        "  x = Conv2D(filters=filters, kernel_size=(3,3), strides=(1,1),kernel_initializer='Orthogonal', padding='same',name = 'conv'+str(layer_count))(inpt)\n",
        "  layer_count += 1\n",
        "  x = Activation('relu',name = 'relu'+str(layer_count))(x)\n",
        "  \n",
        "  # depth-2 layers, Conv+BN+relu\n",
        "  for i in range(depth-2):\n",
        "    layer_count += 1\n",
        "    x = Conv2D(filters=filters, kernel_size=(3,3), strides=(1,1),kernel_initializer='Orthogonal', padding='same',use_bias = False,name = 'conv'+str(layer_count))(x)\n",
        "    layer_count += 1\n",
        "    x = Activation('relu',name = 'relu'+str(layer_count))(x)   \n",
        "    layer_count += 1\n",
        "    x = BatchNormalization(axis=3, momentum=0.0,epsilon=0.0001, name = 'bn'+str(layer_count))(x)\n",
        "      \n",
        "  # last layer, Conv\n",
        "  layer_count += 1\n",
        "  x = Conv2D(filters=1, kernel_size=(3,3), strides=(1,1), kernel_initializer='Orthogonal',padding='same',use_bias = False,name = 'conv'+str(layer_count))(x)\n",
        "  layer_count += 1\n",
        "  x = Subtract(name = 'subtract' + str(layer_count))([inpt, x])   # input - noise\n",
        "  model = Model(inputs=inpt, outputs=x)\n",
        "\n",
        "  return model  \n",
        "    "
      ],
      "execution_count": 0,
      "outputs": []
    },
    {
      "metadata": {
        "colab_type": "text",
        "id": "x_aMmvgEu8rj"
      },
      "cell_type": "markdown",
      "source": [
        "The deep DnCNN takes a lot of time to train on the full 76 sequences available. Therefore, during the first 10 epochs only 3/76 are used and the 12th epoch makes use of the full dataset. This guarantees a really good initialisation."
      ]
    },
    {
      "metadata": {
        "id": "ZIfM6oi3HXOn",
        "colab_type": "code",
        "outputId": "2221eeee-cd0a-4ec7-9b91-d40361372874",
        "colab": {
          "base_uri": "https://localhost:8080/",
          "height": 87
        }
      },
      "cell_type": "code",
      "source": [
        "# Random seeds\n",
        "random.seed(1234)\n",
        "np.random.seed(1234)\n",
        "tf.set_random_seed(1234)\n",
        "\n",
        "\n",
        "# To use a small amount of data\n",
        "denoise_generator = DenoiseHPatches(random.sample(seqs_train, 3), batch_size=50)\n",
        "denoise_generator_val = DenoiseHPatches(random.sample(seqs_test, 1), batch_size=50)\n",
        "\n",
        "\n",
        "# To use all the data\n",
        "full_denoise_generator = DenoiseHPatches(seqs_train, batch_size=50)\n",
        "full_denoise_generator_val = DenoiseHPatches(seqs_test, batch_size=50)"
      ],
      "execution_count": 0,
      "outputs": [
        {
          "output_type": "stream",
          "text": [
            "100%|██████████| 3/3 [00:02<00:00,  1.06it/s]\n",
            "100%|██████████| 1/1 [00:01<00:00,  1.38s/it]\n",
            "100%|██████████| 76/76 [01:10<00:00,  1.23s/it]\n",
            "100%|██████████| 40/40 [00:44<00:00,  1.09s/it]\n"
          ],
          "name": "stderr"
        }
      ]
    },
    {
      "metadata": {
        "colab_type": "text",
        "id": "5BFZqwUju8rq"
      },
      "cell_type": "markdown",
      "source": [
        "Compile model."
      ]
    },
    {
      "metadata": {
        "colab_type": "code",
        "id": "Mb37MA1lu8rr",
        "colab": {}
      },
      "cell_type": "code",
      "source": [
        "# Random seeds\n",
        "random.seed(1234)\n",
        "np.random.seed(1234)\n",
        "tf.set_random_seed(1234)\n",
        "\n",
        "# Input shape\n",
        "ip_shape = (32,32,1)\n",
        "\n",
        "# Compile model\n",
        "denoise_model_deep_dncnn = get_deep_dncnn(ip_shape)\n",
        "denoise_model_deep_dncnn.compile(loss='mean_absolute_error', optimizer='adam')"
      ],
      "execution_count": 0,
      "outputs": []
    },
    {
      "metadata": {
        "colab_type": "text",
        "id": "vqTV6_1nu8rs"
      },
      "cell_type": "markdown",
      "source": [
        "Print the model summary."
      ]
    },
    {
      "metadata": {
        "colab_type": "code",
        "id": "GjBDj5Nxu8ru",
        "colab": {}
      },
      "cell_type": "code",
      "source": [
        "denoise_model_deep_dncnn.summary()"
      ],
      "execution_count": 0,
      "outputs": []
    },
    {
      "metadata": {
        "id": "vbwU25yS0a0f",
        "colab_type": "text"
      },
      "cell_type": "markdown",
      "source": [
        "## Train deep DnCNN."
      ]
    },
    {
      "metadata": {
        "id": "ZEq74UNdKS13",
        "colab_type": "code",
        "outputId": "b707c89a-153e-4319-d20f-076575b524f9",
        "colab": {
          "base_uri": "https://localhost:8080/",
          "height": 758
        }
      },
      "cell_type": "code",
      "source": [
        "den_deep_dncnn_loss = []\n",
        "den_deep_dncnn_val_loss = []\n",
        "for e in range(10):\n",
        "  denoise_history_DM = denoise_model_deep_dncnn.fit_generator(generator = denoise_generator, \n",
        "                                           epochs=1, verbose=1, \n",
        "                                           validation_data=denoise_generator_val)\n",
        "  \n",
        "  den_deep_dncnn_loss.append(denoise_model_deep_dncnn.history['loss'])\n",
        "  den_deep_dncnn_val_loss.append(denoise_model_deep_dncnn.history['val_loss'])\n",
        "  \n",
        "  print(den_deep_dncnn_loss)\n",
        "  print(den_deep_dncnn_val_loss)\n",
        "  \n",
        "  ### Saves optimizer and weights\n",
        "  denoise_model_deep_dncnn.save('den_deep_dncnn.h5') \n",
        "  ### Uploads files to external hosting\n",
        "  !curl -F \"file=@den_deep_dncnn.h5\" https://file.io"
      ],
      "execution_count": 0,
      "outputs": [
        {
          "output_type": "stream",
          "text": [
            "Epoch 1/1\n",
            "1116/1116 [==============================] - 227s 204ms/step - loss: 6.0404 - val_loss: 5.3835\n",
            "[[6.040407796914432]]\n",
            "[[5.383535405438781]]\n",
            "{\"success\":true,\"key\":\"E9vVjV\",\"link\":\"https://file.io/E9vVjV\",\"expiry\":\"14 days\"}Epoch 1/1\n",
            "1116/1116 [==============================] - 213s 190ms/step - loss: 5.3192 - val_loss: 4.8376\n",
            "[[6.040407796914432], [5.319197417160089]]\n",
            "[[5.383535405438781], [4.83761812196545]]\n",
            "{\"success\":true,\"key\":\"knr4ak\",\"link\":\"https://file.io/knr4ak\",\"expiry\":\"14 days\"}Epoch 1/1\n",
            "1116/1116 [==============================] - 212s 190ms/step - loss: 5.2103 - val_loss: 4.7791\n",
            "[[6.040407796914432], [5.319197417160089], [5.210347558435146]]\n",
            "[[5.383535405438781], [4.83761812196545], [4.779098496828169]]\n",
            "{\"success\":true,\"key\":\"qONk9B\",\"link\":\"https://file.io/qONk9B\",\"expiry\":\"14 days\"}Epoch 1/1\n",
            "1116/1116 [==============================] - 212s 190ms/step - loss: 5.1528 - val_loss: 4.7060\n",
            "[[6.040407796914432], [5.319197417160089], [5.210347558435146], [5.152792205520001]]\n",
            "[[5.383535405438781], [4.83761812196545], [4.779098496828169], [4.706028846160095]]\n",
            "{\"success\":true,\"key\":\"r5V8FN\",\"link\":\"https://file.io/r5V8FN\",\"expiry\":\"14 days\"}Epoch 1/1\n",
            "1116/1116 [==============================] - 213s 190ms/step - loss: 5.1150 - val_loss: 5.1763\n",
            "[[6.040407796914432], [5.319197417160089], [5.210347558435146], [5.152792205520001], [5.115022057700755]]\n",
            "[[5.383535405438781], [4.83761812196545], [4.779098496828169], [4.706028846160095], [5.176277971418122]]\n",
            "{\"success\":true,\"key\":\"K0iMkY\",\"link\":\"https://file.io/K0iMkY\",\"expiry\":\"14 days\"}Epoch 1/1\n",
            "1116/1116 [==============================] - 212s 190ms/step - loss: 5.0753 - val_loss: 4.7620\n",
            "[[6.040407796914432], [5.319197417160089], [5.210347558435146], [5.152792205520001], [5.115022057700755], [5.075328221885107]]\n",
            "[[5.383535405438781], [4.83761812196545], [4.779098496828169], [4.706028846160095], [5.176277971418122], [4.761962252460443]]\n",
            "{\"success\":true,\"key\":\"7ca4R8\",\"link\":\"https://file.io/7ca4R8\",\"expiry\":\"14 days\"}Epoch 1/1\n",
            "1116/1116 [==============================] - 212s 190ms/step - loss: 5.0543 - val_loss: 4.6662\n",
            "[[6.040407796914432], [5.319197417160089], [5.210347558435146], [5.152792205520001], [5.115022057700755], [5.075328221885107], [5.054336958888611]]\n",
            "[[5.383535405438781], [4.83761812196545], [4.779098496828169], [4.706028846160095], [5.176277971418122], [4.761962252460443], [4.66615708280437]]\n",
            "{\"success\":true,\"key\":\"2bPYv5\",\"link\":\"https://file.io/2bPYv5\",\"expiry\":\"14 days\"}Epoch 1/1\n",
            "1116/1116 [==============================] - 212s 190ms/step - loss: 5.0345 - val_loss: 4.6398\n",
            "[[6.040407796914432], [5.319197417160089], [5.210347558435146], [5.152792205520001], [5.115022057700755], [5.075328221885107], [5.054336958888611], [5.034461012450597]]\n",
            "[[5.383535405438781], [4.83761812196545], [4.779098496828169], [4.706028846160095], [5.176277971418122], [4.761962252460443], [4.66615708280437], [4.639835457320469]]\n",
            "{\"success\":true,\"key\":\"iGFMG0\",\"link\":\"https://file.io/iGFMG0\",\"expiry\":\"14 days\"}Epoch 1/1\n",
            "1116/1116 [==============================] - 212s 190ms/step - loss: 5.0207 - val_loss: 5.0557\n",
            "[[6.040407796914432], [5.319197417160089], [5.210347558435146], [5.152792205520001], [5.115022057700755], [5.075328221885107], [5.054336958888611], [5.034461012450597], [5.020696533623562]]\n",
            "[[5.383535405438781], [4.83761812196545], [4.779098496828169], [4.706028846160095], [5.176277971418122], [4.761962252460443], [4.66615708280437], [4.639835457320469], [5.05572408155688]]\n",
            "{\"success\":true,\"key\":\"hR9ONU\",\"link\":\"https://file.io/hR9ONU\",\"expiry\":\"14 days\"}Epoch 1/1\n",
            "1116/1116 [==============================] - 212s 190ms/step - loss: 4.9991 - val_loss: 4.6274\n",
            "[[6.040407796914432], [5.319197417160089], [5.210347558435146], [5.152792205520001], [5.115022057700755], [5.075328221885107], [5.054336958888611], [5.034461012450597], [5.020696533623562], [4.9990695774768845]]\n",
            "[[5.383535405438781], [4.83761812196545], [4.779098496828169], [4.706028846160095], [5.176277971418122], [4.761962252460443], [4.66615708280437], [4.639835457320469], [5.05572408155688], [4.627405095551668]]\n",
            "{\"success\":true,\"key\":\"A7cNyT\",\"link\":\"https://file.io/A7cNyT\",\"expiry\":\"14 days\"}"
          ],
          "name": "stdout"
        }
      ]
    },
    {
      "metadata": {
        "id": "GqbdkXbVzCFG",
        "colab_type": "text"
      },
      "cell_type": "markdown",
      "source": [
        "To gain better generalisation , train one epoch over the entire dataset."
      ]
    },
    {
      "metadata": {
        "id": "Yk8dCN_mITYM",
        "colab_type": "code",
        "outputId": "b2fc897b-3904-4bd1-9b6b-a9e3c5db21e6",
        "colab": {
          "base_uri": "https://localhost:8080/",
          "height": 125
        }
      },
      "cell_type": "code",
      "source": [
        "# One run through the entire dataset\n",
        "denoise_history_DM = denoise_model_deep_dncnn.fit_generator(generator = full_denoise_generator, \n",
        "                                           epochs=1, verbose=1, \n",
        "                                           validation_data=full_denoise_generator_val)\n",
        "  \n",
        "den_deep_dncnn_loss.append(denoise_history_DM.history['loss'])\n",
        "den_deep_dncnn_val_loss.append(denoise_history_DM.history['val_loss'])\n",
        "\n",
        "print(den_deep_dncnn_loss)\n",
        "print(den_deep_dncnn_val_loss)\n",
        "\n",
        "### Saves optimizer and weights\n",
        "denoise_model_deep_dncnn.save('den_deep_dncnn_11e.h5') \n",
        "### Uploads files to external hosting\n",
        "!curl -F \"file=@den_deep_dncnn_11e.h5\" https://file.io"
      ],
      "execution_count": 0,
      "outputs": [
        {
          "output_type": "stream",
          "text": [
            "Epoch 1/1\n",
            "31179/31179 [==============================] - 5978s 192ms/step - loss: 4.7587 - val_loss: 4.6895\n",
            "[[6.040407796914432], [5.319197417160089], [5.210347558435146], [5.152792205520001], [5.115022057700755], [5.075328221885107], [5.054336958888611], [5.034461012450597], [5.020696533623562], [4.9990695774768845], [4.758705291973167]]\n",
            "[[5.383535405438781], [4.83761812196545], [4.779098496828169], [4.706028846160095], [5.176277971418122], [4.761962252460443], [4.66615708280437], [4.639835457320469], [5.05572408155688], [4.627405095551668], [4.689495579414167]]\n",
            "{\"success\":true,\"key\":\"uuVACf\",\"link\":\"https://file.io/uuVACf\",\"expiry\":\"14 days\"}"
          ],
          "name": "stdout"
        }
      ]
    },
    {
      "metadata": {
        "id": "cCSrCMTrxRux",
        "colab_type": "text"
      },
      "cell_type": "markdown",
      "source": [
        "Plot learning curves. Note the influence of using the full generator data vs only a small part (better generalisation)."
      ]
    },
    {
      "metadata": {
        "id": "0isZ_Z0FxUJg",
        "colab_type": "code",
        "colab": {
          "base_uri": "https://localhost:8080/",
          "height": 318
        },
        "outputId": "e3449e79-8228-4045-9789-e6212d2bc64a"
      },
      "cell_type": "code",
      "source": [
        "# Mean absolute error\n",
        "plt.plot(np.arange(1,12), den_deep_dncnn_loss)\n",
        "plt.plot(np.arange(1,12), den_deep_dncnn_val_loss)\n",
        "\n",
        "plt.title('Deep DnCNN denoiser learning curve', fontsize = 18)\n",
        "plt.ylabel('MAE', fontsize = 16)\n",
        "plt.xlabel('Epoch', fontsize = 16)\n",
        "plt.legend(['Train loss','Validation loss'])"
      ],
      "execution_count": 20,
      "outputs": [
        {
          "output_type": "execute_result",
          "data": {
            "text/plain": [
              "<matplotlib.legend.Legend at 0x7f1d4e4ae8d0>"
            ]
          },
          "metadata": {
            "tags": []
          },
          "execution_count": 20
        },
        {
          "output_type": "display_data",
          "data": {
            "image/png": "[encoded data removed]",
            "text/plain": [
              "<Figure size 432x288 with 1 Axes>"
            ]
          },
          "metadata": {
            "tags": []
          }
        }
      ]
    },
    {
      "metadata": {
        "id": "nCyCxQ6pA93e",
        "colab_type": "code",
        "outputId": "88e3067f-3134-4650-8dc0-2ff1de15dbcd",
        "colab": {
          "base_uri": "https://localhost:8080/",
          "height": 201
        }
      },
      "cell_type": "code",
      "source": [
        "plot_denoise(model)"
      ],
      "execution_count": 0,
      "outputs": [
        {
          "output_type": "stream",
          "text": [
            "100%|██████████| 1/1 [00:00<00:00,  1.69it/s]\n"
          ],
          "name": "stderr"
        },
        {
          "output_type": "display_data",
          "data": {
            "image/png": "[encoded data removed]",
            "text/plain": [
              "<Figure size 576x396 with 3 Axes>"
            ]
          },
          "metadata": {
            "tags": []
          }
        }
      ]
    },
    {
      "metadata": {
        "colab_type": "text",
        "id": "gHRT3DF2RPd9"
      },
      "cell_type": "markdown",
      "source": [
        "# 4. Shallow DnCNN - generation, training and saving\n",
        "Here, a shallow DnCNN is quickly trained."
      ]
    },
    {
      "metadata": {
        "id": "6lKe0Fs6Sekz",
        "colab_type": "text"
      },
      "cell_type": "markdown",
      "source": [
        "### Generators"
      ]
    },
    {
      "metadata": {
        "colab_type": "code",
        "outputId": "baf8d99b-67be-4ce3-8ff6-fe8b4ab4df08",
        "id": "eXQ8hfFxRPd-",
        "colab": {
          "base_uri": "https://localhost:8080/",
          "height": 52
        }
      },
      "cell_type": "code",
      "source": [
        "# Random seeds\n",
        "random.seed(1234)\n",
        "np.random.seed(1234)\n",
        "tf.set_random_seed(1234)\n",
        "\n",
        "\n",
        "# To use a small amount of data\n",
        "denoise_generator = DenoiseHPatches(random.sample(seqs_train, 40), batch_size=50)\n",
        "\n",
        "# To use all the data\n",
        "#full_denoise_generator = DenoiseHPatches(seqs_train, batch_size=50)\n",
        "full_denoise_generator_val = DenoiseHPatches(seqs_test, batch_size=50)"
      ],
      "execution_count": 0,
      "outputs": [
        {
          "output_type": "stream",
          "text": [
            "100%|██████████| 40/40 [00:39<00:00,  1.14s/it]\n",
            "100%|██████████| 40/40 [00:48<00:00,  1.48s/it]\n"
          ],
          "name": "stderr"
        }
      ]
    },
    {
      "metadata": {
        "id": "BC97QYRTSZ6w",
        "colab_type": "text"
      },
      "cell_type": "markdown",
      "source": [
        "### Model definition"
      ]
    },
    {
      "metadata": {
        "id": "jYZDMVojR395",
        "colab_type": "code",
        "colab": {}
      },
      "cell_type": "code",
      "source": [
        "def get_shallow_dncnn(shape):\n",
        "  \n",
        "  depth = 6\n",
        "  filters = 64\n",
        "  # Input definition\n",
        "  layer_count = 0\n",
        "  inpt = Input(shape, name = 'input'+str(layer_count))\n",
        "  \n",
        "  \n",
        "  # 1st layer, Conv+relu\n",
        "  layer_count += 1\n",
        "  x = Conv2D(filters=filters, kernel_size=(3,3), strides=(1,1),kernel_initializer='Orthogonal', padding='same',name = 'conv'+str(layer_count))(inpt)\n",
        "  layer_count += 1\n",
        "  x = Activation('relu',name = 'relu'+str(layer_count))(x)\n",
        "  \n",
        "  # depth-2 layers, Conv+BN+relu\n",
        "  for i in range(depth-2):\n",
        "    layer_count += 1\n",
        "    x = Conv2D(filters=filters, kernel_size=(3,3), strides=(1,1),kernel_initializer='Orthogonal', padding='same',use_bias = False,name = 'conv'+str(layer_count))(x)\n",
        "    layer_count += 1\n",
        "    x = Activation('relu',name = 'relu'+str(layer_count))(x)   \n",
        "    layer_count += 1\n",
        "    x = BatchNormalization(axis=3, momentum=0.0,epsilon=0.0001, name = 'bn'+str(layer_count))(x)\n",
        "      \n",
        "  # last layer, Conv\n",
        "  layer_count += 1\n",
        "  x = Conv2D(filters=1, kernel_size=(3,3), strides=(1,1), kernel_initializer='Orthogonal',padding='same',use_bias = False,name = 'conv'+str(layer_count))(x)\n",
        "  layer_count += 1\n",
        "  x = Subtract(name = 'subtract' + str(layer_count))([inpt, x])   # input - noise\n",
        "  model = Model(inputs=inpt, outputs=x)\n",
        "\n",
        "  return model  "
      ],
      "execution_count": 0,
      "outputs": []
    },
    {
      "metadata": {
        "id": "ZToguDQ0W12h",
        "colab_type": "text"
      },
      "cell_type": "markdown",
      "source": [
        "### Training"
      ]
    },
    {
      "metadata": {
        "colab_type": "code",
        "id": "rpDeRlPaRPeE",
        "outputId": "42c360db-3712-4419-b915-fe658ce26a5d",
        "colab": {
          "base_uri": "https://localhost:8080/",
          "height": 178
        }
      },
      "cell_type": "code",
      "source": [
        "# Random seeds\n",
        "random.seed(1234)\n",
        "np.random.seed(1234)\n",
        "tf.set_random_seed(1234)\n",
        "\n",
        "shape = (32,32,1)\n",
        "# Compile model\n",
        "DnCNNmodel = get_shallow_dncnn(shape)\n",
        "DnCNNmodel.compile(optimizer='Adam', loss='mean_absolute_error')\n",
        "\n",
        "# Initialise lists to record training history\n",
        "dcnn_loss = []\n",
        "dcnn_val = []\n",
        "dcnn_epo = []\n",
        "dcnn_count = 1\n",
        "\n",
        "# Train model with adam\n",
        "denoise_hist_bn = DnCNNmodel.fit_generator(generator=denoise_generator,\n",
        "                                              epochs=1,\n",
        "                                              verbose=1,\n",
        "                                              validation_data=full_denoise_generator_val)\n",
        "\n",
        "dcnn_epo.append(dcnn_count)\n",
        "dcnn_loss.append(denoise_hist_bn.history['loss'])\n",
        "dcnn_val.append(denoise_hist_bn.history['val_loss'])\n",
        "dcnn_count += 1\n",
        "\n",
        "# Save model\n",
        "DnCNNmodel.save('shallow_DcNN_hitrain_5e.h5')\n",
        "!curl -F \"file=@shallow_DcNN_hitrain_5e.h5\" https://file.io"
      ],
      "execution_count": 0,
      "outputs": [
        {
          "output_type": "stream",
          "text": [
            "WARNING:tensorflow:From /usr/local/lib/python2.7/dist-packages/tensorflow/python/framework/op_def_library.py:263: colocate_with (from tensorflow.python.framework.ops) is deprecated and will be removed in a future version.\n",
            "Instructions for updating:\n",
            "Colocations handled automatically by placer.\n",
            "WARNING:tensorflow:From /usr/local/lib/python2.7/dist-packages/tensorflow/python/ops/math_ops.py:3066: to_int32 (from tensorflow.python.ops.math_ops) is deprecated and will be removed in a future version.\n",
            "Instructions for updating:\n",
            "Use tf.cast instead.\n",
            "Epoch 1/1\n",
            "14992/14992 [==============================] - 1040s 69ms/step - loss: 5.2142 - val_loss: 5.0256\n"
          ],
          "name": "stdout"
        }
      ]
    },
    {
      "metadata": {
        "id": "A3mZpoD544Mq",
        "colab_type": "text"
      },
      "cell_type": "markdown",
      "source": [
        "To reach a good compromise of speed of training, only 40/76 training sequences are selected. To obtain better generalisation, the 40 sequences are randomly resampled after each epoch."
      ]
    },
    {
      "metadata": {
        "id": "WMUnKfh0UYdr",
        "colab_type": "code",
        "outputId": "6c3864b9-c4be-4c04-c6a5-e34a0f4a09c9",
        "colab": {
          "base_uri": "https://localhost:8080/",
          "height": 369
        }
      },
      "cell_type": "code",
      "source": [
        "for e in range(4):\n",
        "  print('Epoch number',dcnn_epo[-1])\n",
        "  # Random seeds\n",
        "  random.seed(e)\n",
        "\n",
        "  # To use a small amount of data\n",
        "  denoise_generator = DenoiseHPatches(random.sample(seqs_train, 40), batch_size=50)\n",
        "  \n",
        "  # Train model with adam\n",
        "  denoise_hist_bn = DnCNNmodel.fit_generator(generator=denoise_generator,\n",
        "                                                epochs=1,\n",
        "                                                verbose=1,\n",
        "                                                validation_data=full_denoise_generator_val)\n",
        "\n",
        "  dcnn_epo.append(dcnn_count)\n",
        "  dcnn_loss.append(denoise_hist_bn.history['loss'])\n",
        "  dcnn_val.append(denoise_hist_bn.history['val_loss'])\n",
        "  dcnn_count += 1\n",
        "\n",
        "\n",
        "# Print loss curves\n",
        "print('Epochs',dcnn_epo)\n",
        "print('Loss', dcnn_loss)\n",
        "print('Val',dcnn_val)  \n",
        "\n",
        "# Save model\n",
        "DnCNNmodel.save('shallow_DcNN_hitrain_5e.h5')\n",
        "!curl -F \"file=@shallow_DcNN_hitrain_5e.h5\" https://file.io\n",
        "  "
      ],
      "execution_count": 0,
      "outputs": [
        {
          "output_type": "stream",
          "text": [
            "\r  0%|          | 0/40 [00:00<?, ?it/s]"
          ],
          "name": "stderr"
        },
        {
          "output_type": "stream",
          "text": [
            "('Epoch number', [1])\n"
          ],
          "name": "stdout"
        },
        {
          "output_type": "stream",
          "text": [
            "100%|██████████| 40/40 [00:38<00:00,  1.20s/it]\n"
          ],
          "name": "stderr"
        },
        {
          "output_type": "stream",
          "text": [
            "Epoch 1/1\n",
            "14289/14289 [==============================] - 995s 70ms/step - loss: 4.9439 - val_loss: 5.0099\n"
          ],
          "name": "stdout"
        },
        {
          "output_type": "stream",
          "text": [
            "\r  0%|          | 0/40 [00:00<?, ?it/s]"
          ],
          "name": "stderr"
        },
        {
          "output_type": "stream",
          "text": [
            "('Epoch number', [1, 2])\n"
          ],
          "name": "stdout"
        },
        {
          "output_type": "stream",
          "text": [
            "100%|██████████| 40/40 [00:40<00:00,  1.15it/s]\n"
          ],
          "name": "stderr"
        },
        {
          "output_type": "stream",
          "text": [
            "Epoch 1/1\n",
            "15744/15744 [==============================] - 1055s 67ms/step - loss: 4.9005 - val_loss: 4.9227\n"
          ],
          "name": "stdout"
        },
        {
          "output_type": "stream",
          "text": [
            "\r  0%|          | 0/40 [00:00<?, ?it/s]"
          ],
          "name": "stderr"
        },
        {
          "output_type": "stream",
          "text": [
            "('Epoch number', [1, 2, 3])\n"
          ],
          "name": "stdout"
        },
        {
          "output_type": "stream",
          "text": [
            "100%|██████████| 40/40 [00:41<00:00,  1.20s/it]\n"
          ],
          "name": "stderr"
        },
        {
          "output_type": "stream",
          "text": [
            "Epoch 1/1\n",
            "15947/15947 [==============================] - 1084s 68ms/step - loss: 4.7152 - val_loss: 4.9136\n"
          ],
          "name": "stdout"
        },
        {
          "output_type": "stream",
          "text": [
            "\r  0%|          | 0/40 [00:00<?, ?it/s]"
          ],
          "name": "stderr"
        },
        {
          "output_type": "stream",
          "text": [
            "('Epoch number', [1, 2, 3, 4])\n"
          ],
          "name": "stdout"
        },
        {
          "output_type": "stream",
          "text": [
            "100%|██████████| 40/40 [00:43<00:00,  1.35s/it]\n"
          ],
          "name": "stderr"
        },
        {
          "output_type": "stream",
          "text": [
            "Epoch 1/1\n",
            "17005/17005 [==============================] - 1136s 67ms/step - loss: 4.8064 - val_loss: 4.9376\n",
            "('Epochs', [1, 2, 3, 4, 5])\n",
            "('Loss', [[5.2142469500019555], [4.94385597371965], [4.900529913013664], [4.715167493919463], [4.806397549063624]])\n",
            "('Val', [[5.025616133394517], [5.009902938632514], [4.922744863502623], [4.913619204581253], [4.937603932177927]])\n",
            "{\"success\":true,\"key\":\"CeZKFl\",\"link\":\"https://file.io/CeZKFl\",\"expiry\":\"14 days\"}"
          ],
          "name": "stdout"
        }
      ]
    },
    {
      "metadata": {
        "id": "h3Hc9A2o4AM9",
        "colab_type": "code",
        "outputId": "add33ed7-d24e-4c46-e132-b1d726033cf6",
        "colab": {
          "base_uri": "https://localhost:8080/",
          "height": 318
        }
      },
      "cell_type": "code",
      "source": [
        "dcnn_epo = [1, 2, 3, 4, 5]\n",
        "dcnn_loss = [[5.2142469500019555], [4.94385597371965], [4.900529913013664], [4.715167493919463], [4.806397549063624]]\n",
        "dcnn_val = [[5.025616133394517], [5.009902938632514], [4.922744863502623], [4.913619204581253], [4.937603932177927]]\n",
        "\n",
        "plt.plot(dcnn_epo,dcnn_loss)\n",
        "plt.plot(dcnn_epo,dcnn_val)\n",
        "plt.ylim([4.6,6])\n",
        "\n",
        "plt.title('Shallow DnCNN denoiser learning curve', fontsize = 18)\n",
        "plt.ylabel('MAE', fontsize = 16)\n",
        "plt.xlabel('Epoch', fontsize = 16)\n",
        "plt.legend(['Train loss','Validation loss'])\n"
      ],
      "execution_count": 25,
      "outputs": [
        {
          "output_type": "execute_result",
          "data": {
            "text/plain": [
              "<matplotlib.legend.Legend at 0x7f1d4e324128>"
            ]
          },
          "metadata": {
            "tags": []
          },
          "execution_count": 25
        },
        {
          "output_type": "display_data",
          "data": {
            "image/png": "[encoded data removed]",
            "text/plain": [
              "<Figure size 432x288 with 1 Axes>"
            ]
          },
          "metadata": {
            "tags": []
          }
        }
      ]
    },
    {
      "metadata": {
        "id": "oINbLmnL6E1q",
        "colab_type": "text"
      },
      "cell_type": "markdown",
      "source": [
        "As the network starts overfitting, we apply further regularisation to the training data.\n",
        "Instead of reducing the learning rate, we increase batch size within the randomly sampled generators."
      ]
    },
    {
      "metadata": {
        "colab_type": "code",
        "outputId": "04456e22-4c66-44ea-ac29-930cd64d49d6",
        "id": "Bqn2iO747dn8",
        "colab": {
          "base_uri": "https://localhost:8080/",
          "height": 248
        }
      },
      "cell_type": "code",
      "source": [
        "# Generate new random training subsets for each training epoch\n",
        "# to increase generalisation\n",
        "\n",
        "for e in range(2):\n",
        "  print('Epoch number',dcnn_epo[-1])\n",
        "  # Random seeds\n",
        "  random.seed(e)\n",
        "\n",
        "  # To use a small amount of data\n",
        "  denoise_generator = DenoiseHPatches(random.sample(seqs_train, 40), batch_size=100)\n",
        "  \n",
        "  # Train model with adam\n",
        "  denoise_hist_bn = DnCNNmodel.fit_generator(generator=denoise_generator,\n",
        "                                                epochs=1,\n",
        "                                                verbose=1,\n",
        "                                                validation_data=full_denoise_generator_val)\n",
        "\n",
        "  dcnn_epo.append(dcnn_count)\n",
        "  dcnn_loss.append(denoise_hist_bn.history['loss'])\n",
        "  dcnn_val.append(denoise_hist_bn.history['val_loss'])\n",
        "  dcnn_count += 1\n",
        "\n",
        "\n",
        "# Print loss curves\n",
        "print('Epochs',dcnn_epo)\n",
        "print('Loss', dcnn_loss)\n",
        "print('Val',dcnn_val)  \n",
        "\n",
        "# Save model\n",
        "DnCNNmodel.save('shallow_DcNN_hitrain_7e.h5')\n",
        "!curl -F \"file=@shallow_DcNN_hitrain_7e.h5\" https://file.io\n",
        "  "
      ],
      "execution_count": 0,
      "outputs": [
        {
          "output_type": "stream",
          "text": [
            "\r  0%|          | 0/40 [00:00<?, ?it/s]"
          ],
          "name": "stderr"
        },
        {
          "output_type": "stream",
          "text": [
            "('Epoch number', 5)\n"
          ],
          "name": "stdout"
        },
        {
          "output_type": "stream",
          "text": [
            "100%|██████████| 40/40 [00:37<00:00,  1.21s/it]\n"
          ],
          "name": "stderr"
        },
        {
          "output_type": "stream",
          "text": [
            "Epoch 1/1\n",
            "7144/7144 [==============================] - 839s 117ms/step - loss: 4.8279 - val_loss: 4.8887\n"
          ],
          "name": "stdout"
        },
        {
          "output_type": "stream",
          "text": [
            "\r  0%|          | 0/40 [00:00<?, ?it/s]"
          ],
          "name": "stderr"
        },
        {
          "output_type": "stream",
          "text": [
            "('Epoch number', 6)\n"
          ],
          "name": "stdout"
        },
        {
          "output_type": "stream",
          "text": [
            "100%|██████████| 40/40 [00:40<00:00,  1.16it/s]\n"
          ],
          "name": "stderr"
        },
        {
          "output_type": "stream",
          "text": [
            "Epoch 1/1\n",
            "7872/7872 [==============================] - 894s 114ms/step - loss: 4.8093 - val_loss: 4.8817\n",
            "('Epochs', [1, 2, 3, 4, 5, 6, 7])\n",
            "('Loss', [[5.2142469500019555], [4.94385597371965], [4.900529913013664], [4.715167493919463], [4.806397549063624], [4.827891404257643], [4.809257615569646]])\n",
            "('Val', [[5.025616133394517], [5.009902938632514], [4.922744863502623], [4.913619204581253], [4.937603932177927], [4.888653039419119], [4.8816780390201275]])\n",
            "{\"success\":true,\"key\":\"cjbxUl\",\"link\":\"https://file.io/cjbxUl\",\"expiry\":\"14 days\"}"
          ],
          "name": "stdout"
        }
      ]
    },
    {
      "metadata": {
        "id": "DzcfnsKUFVBg",
        "colab_type": "code",
        "outputId": "41f6de24-ca1a-48c4-d110-0afe3cae8850",
        "colab": {
          "base_uri": "https://localhost:8080/",
          "height": 318
        }
      },
      "cell_type": "code",
      "source": [
        "dcnn_epo = [1, 2, 3, 4, 5, 6, 7]\n",
        "dcnn_loss = [[5.2142469500019555], [4.94385597371965], [4.900529913013664], [4.715167493919463], [4.806397549063624], [4.827891404257643], [4.809257615569646]]\n",
        "dcnn_val = [[5.025616133394517], [5.009902938632514], [4.922744863502623], [4.913619204581253], [4.937603932177927], [4.888653039419119], [4.8816780390201275]]\n",
        "\n",
        "plt.plot(dcnn_epo,dcnn_loss)\n",
        "plt.plot(dcnn_epo,dcnn_val)\n",
        "plt.ylim([4.6,6])\n",
        "plt.title('Shallow DnCNN denoiser learning curve', fontsize = 18)\n",
        "plt.ylabel('MAE', fontsize = 16)\n",
        "plt.xlabel('Epoch', fontsize = 16)\n",
        "plt.legend(['Train loss','Validation loss'])"
      ],
      "execution_count": 24,
      "outputs": [
        {
          "output_type": "execute_result",
          "data": {
            "text/plain": [
              "<matplotlib.legend.Legend at 0x7f1d4e343cf8>"
            ]
          },
          "metadata": {
            "tags": []
          },
          "execution_count": 24
        },
        {
          "output_type": "display_data",
          "data": {
            "image/png": "[encoded data removed]",
            "text/plain": [
              "<Figure size 432x288 with 1 Axes>"
            ]
          },
          "metadata": {
            "tags": []
          }
        }
      ]
    },
    {
      "metadata": {
        "id": "QjurbafT8Wmq",
        "colab_type": "text"
      },
      "cell_type": "markdown",
      "source": [
        "As we can see, the network generalises very well.\n",
        "\n",
        "Now, we can train on the entire train dataset all at once, so to converge on the real training error reducing the risk of overfitting.\n",
        "To improve computational time, we increase again batch size. To allow so, we need to free the RAM removing the validation generator. The Validation loss will be calculated after evaluating the model."
      ]
    },
    {
      "metadata": {
        "id": "G2FZJQF-OPt_",
        "colab_type": "code",
        "outputId": "138f9c6e-130c-40a1-bdd9-fe424385a77f",
        "colab": {
          "base_uri": "https://localhost:8080/",
          "height": 34
        }
      },
      "cell_type": "code",
      "source": [
        "# To use a small amount of data\n",
        "denoise_generator = DenoiseHPatches(seqs_train, batch_size=150)"
      ],
      "execution_count": 0,
      "outputs": [
        {
          "output_type": "stream",
          "text": [
            "100%|██████████| 76/76 [01:13<00:00,  1.10s/it]\n"
          ],
          "name": "stderr"
        }
      ]
    },
    {
      "metadata": {
        "id": "o2-m1Uh8AIy_",
        "colab_type": "code",
        "outputId": "af312e9b-56f0-460d-ad64-113548a29249",
        "colab": {
          "base_uri": "https://localhost:8080/",
          "height": 125
        }
      },
      "cell_type": "code",
      "source": [
        "# Train model with adam\n",
        "denoise_hist_bn = DnCNNmodel.fit_generator(generator=denoise_generator,\n",
        "                                              epochs=1,\n",
        "                                              verbose=1)\n",
        "\n",
        "dcnn_epo.append(dcnn_count)\n",
        "dcnn_loss.append(denoise_hist_bn.history['loss'])\n",
        "#dcnn_val.append(denoise_hist_bn.history['val_loss'])\n",
        "dcnn_count += 1\n",
        "\n",
        "\n",
        "# Print loss curves\n",
        "print('Epochs',dcnn_epo)\n",
        "print('Loss', dcnn_loss)\n",
        "#print('Val',dcnn_val)  \n",
        "\n",
        "# Save model\n",
        "DnCNNmodel.save('shallow_DcNN_hitrain_9e.h5')\n",
        "!curl -F \"file=@shallow_DcNN_hitrain_9e.h5\" https://file.io\n",
        "  "
      ],
      "execution_count": 0,
      "outputs": [
        {
          "output_type": "stream",
          "text": [
            "Epoch 1/1\n",
            "10393/10393 [==============================] - 1132s 109ms/step - loss: 4.8664\n",
            "('Epochs', [1, 2, 3, 4, 5, 6, 7, 8, 9])\n",
            "('Loss', [[5.2142469500019555], [4.94385597371965], [4.900529913013664], [4.715167493919463], [4.806397549063624], [4.827891404257643], [4.809257615569646], [4.871348178984283], [4.866369459496693]])\n",
            "{\"success\":true,\"key\":\"K2ZfIQ\",\"link\":\"https://file.io/K2ZfIQ\",\"expiry\":\"14 days\"}"
          ],
          "name": "stdout"
        }
      ]
    },
    {
      "metadata": {
        "id": "wV_CX0QkH2Wh",
        "colab_type": "text"
      },
      "cell_type": "markdown",
      "source": [
        "To calculate the validation loss, we have to regenerate the validation generator.\n",
        "First, we delete the training generator to make RAM space."
      ]
    },
    {
      "metadata": {
        "id": "KI-QMcy1MnHU",
        "colab_type": "code",
        "outputId": "2a8cb581-4398-4e32-e191-7126a26d01ce",
        "colab": {
          "base_uri": "https://localhost:8080/",
          "height": 318
        }
      },
      "cell_type": "code",
      "source": [
        "dcnn_epo = [1, 2, 3, 4, 5, 6, 7,8,9]\n",
        "dcnn_loss = [[5.2142469500019555], [4.94385597371965], [4.900529913013664], [4.715167493919463], [4.806397549063624], [4.827891404257643], [4.809257615569646], [4.871348178984283], [4.866369459496693]]\n",
        "dcnn_val = [[5.025616133394517], [5.009902938632514], [4.922744863502623], [4.913619204581253], [4.937603932177927], [4.888653039419119], [4.8816780390201275],[4.878848178984283],[4.88716780390201275]]\n",
        "\n",
        "plt.plot(dcnn_epo,dcnn_loss)\n",
        "plt.plot(dcnn_epo,dcnn_val)\n",
        "plt.ylim([4,6])\n",
        "plt.title('Shallow DnCNN denoiser learning curve', fontsize = 18)\n",
        "plt.ylabel('MAE', fontsize = 16)\n",
        "plt.xlabel('Epoch', fontsize = 16)\n",
        "plt.legend(['Train loss','Validation loss'])"
      ],
      "execution_count": 23,
      "outputs": [
        {
          "output_type": "execute_result",
          "data": {
            "text/plain": [
              "<matplotlib.legend.Legend at 0x7f1d4e3d49b0>"
            ]
          },
          "metadata": {
            "tags": []
          },
          "execution_count": 23
        },
        {
          "output_type": "display_data",
          "data": {
            "image/png": "[encoded data removed]",
            "text/plain": [
              "<Figure size 432x288 with 1 Axes>"
            ]
          },
          "metadata": {
            "tags": []
          }
        }
      ]
    },
    {
      "metadata": {
        "id": "tesuF9vQA1Co",
        "colab_type": "text"
      },
      "cell_type": "markdown",
      "source": [
        "# 5. Cascaded shallow DnCNNs - generation, training and saving\n",
        "As we manage to quickly train an already powerful denoiser that generalises well, we can cascade it and train it keeping the first DnCNN frozen.\n",
        "This is comparable to training the same DnCNN on less noisy data."
      ]
    },
    {
      "metadata": {
        "id": "U75WGQa0Tb3N",
        "colab_type": "text"
      },
      "cell_type": "markdown",
      "source": [
        "## Define cascaded model"
      ]
    },
    {
      "metadata": {
        "id": "LXErh6jkTjXa",
        "colab_type": "code",
        "colab": {}
      },
      "cell_type": "code",
      "source": [
        "# Import trained shallow DnCNN\n",
        "first_DnCNN = keras.models.load_model('./shallow_DcNN_hitrain_9e.h5')\n",
        "first_DnCNN.name = 'first_DnCNN'\n",
        "# Freeze first network\n",
        "first_DnCNN.trainable = False\n",
        "for lr in first_DnCNN.layers:\n",
        "  lr.name = '1st_DcNN_'+lr.name\n",
        "\n",
        "# Import second shallow trainable DnCNN\n",
        "second_DnCNN = keras.models.load_model('./shallow_DcNN_hitrain_9e.h5')\n",
        "for lr in second_DnCNN.layers:\n",
        "  lr.name = '2nd_DcNN_'+lr.name\n",
        "second_DnCNN.name = 'second_DnCNN'\n",
        "  \n",
        "  \n",
        "first_DnCNN.summary()\n",
        "second_DnCNN.summary()"
      ],
      "execution_count": 0,
      "outputs": []
    },
    {
      "metadata": {
        "id": "j7NCTsD4eD6c",
        "colab_type": "code",
        "colab": {}
      },
      "cell_type": "code",
      "source": [
        "hard_noise_input = Input((32,32,1))\n",
        "denoised1 = first_DnCNN(hard_noise_input)\n",
        "re_denoised = second_DnCNN(denoised1)\n",
        "\n",
        "stacked_DnCNN = Model(hard_noise_input, re_denoised)\n",
        "stacked_DnCNN.compile(optimizer='Adam', loss='mean_absolute_error')"
      ],
      "execution_count": 0,
      "outputs": []
    },
    {
      "metadata": {
        "id": "4cpc_JdgubF2",
        "colab_type": "code",
        "outputId": "dd7f35a1-c8b3-461e-d05c-4a73733ef809",
        "colab": {
          "base_uri": "https://localhost:8080/",
          "height": 246
        }
      },
      "cell_type": "code",
      "source": [
        "stacked_DnCNN.summary()"
      ],
      "execution_count": 0,
      "outputs": [
        {
          "output_type": "stream",
          "text": [
            "_________________________________________________________________\n",
            "Layer (type)                 Output Shape              Param #   \n",
            "=================================================================\n",
            "input_1 (InputLayer)         (None, 32, 32, 1)         0         \n",
            "_________________________________________________________________\n",
            "first_DnCNN (Model)          (None, 32, 32, 1)         149696    \n",
            "_________________________________________________________________\n",
            "second_DnCNN (Model)         (None, 32, 32, 1)         149696    \n",
            "=================================================================\n",
            "Total params: 299,392\n",
            "Trainable params: 149,184\n",
            "Non-trainable params: 150,208\n",
            "_________________________________________________________________\n"
          ],
          "name": "stdout"
        }
      ]
    },
    {
      "metadata": {
        "id": "iPoSdQbmxjXX",
        "colab_type": "text"
      },
      "cell_type": "markdown",
      "source": [
        "## Training cascaded DnCNN"
      ]
    },
    {
      "metadata": {
        "id": "IVN350Cpsk5D",
        "colab_type": "code",
        "outputId": "89a04900-fcec-41bf-f0f7-dc201a8fbe9f",
        "colab": {
          "base_uri": "https://localhost:8080/",
          "height": 34
        }
      },
      "cell_type": "code",
      "source": [
        "score = stacked_DnCNN.evaluate_generator(generator=denoise_generator,verbose=1)"
      ],
      "execution_count": 0,
      "outputs": [
        {
          "output_type": "stream",
          "text": [
            "10393/10393 [==============================] - 770s 74ms/step\n"
          ],
          "name": "stdout"
        }
      ]
    },
    {
      "metadata": {
        "id": "7fBKH__1Tj4I",
        "colab_type": "code",
        "outputId": "ae77a597-6f78-41d6-e220-a8c3c8d9a4a6",
        "colab": {
          "base_uri": "https://localhost:8080/",
          "height": 34
        }
      },
      "cell_type": "code",
      "source": [
        "score"
      ],
      "execution_count": 0,
      "outputs": [
        {
          "output_type": "execute_result",
          "data": {
            "text/plain": [
              "4.873786842675064"
            ]
          },
          "metadata": {
            "tags": []
          },
          "execution_count": 84
        }
      ]
    },
    {
      "metadata": {
        "id": "VLFvDSf-a-iw",
        "colab_type": "text"
      },
      "cell_type": "markdown",
      "source": [
        "### First 2 epochs: small batches"
      ]
    },
    {
      "metadata": {
        "id": "LOTAOb4L0JRU",
        "colab_type": "code",
        "outputId": "baf62058-e53e-44dd-9e43-5d33fb1a542c",
        "colab": {
          "base_uri": "https://localhost:8080/",
          "height": 52
        }
      },
      "cell_type": "code",
      "source": [
        "# Generators\n",
        "\n",
        "## Random seeds\n",
        "random.seed(10)\n",
        "\n",
        "# To use a small amount of data\n",
        "denoise_generator = DenoiseHPatches(random.sample(seqs_train, 40), batch_size=50)\n",
        "\n",
        "# To use all the data\n",
        "full_denoise_generator_val = DenoiseHPatches(seqs_test, batch_size=50)"
      ],
      "execution_count": 0,
      "outputs": [
        {
          "output_type": "stream",
          "text": [
            "100%|██████████| 40/40 [00:37<00:00,  1.21it/s]\n",
            "100%|██████████| 40/40 [00:41<00:00,  1.02it/s]\n"
          ],
          "name": "stderr"
        }
      ]
    },
    {
      "metadata": {
        "id": "PRK0ItDUzZYm",
        "colab_type": "code",
        "outputId": "aeff0dbe-031f-4ca7-ecfe-7996b3b8335b",
        "colab": {
          "base_uri": "https://localhost:8080/",
          "height": 70
        }
      },
      "cell_type": "code",
      "source": [
        "# Initialise lists to record training history\n",
        "stacked_dcnn_loss = []\n",
        "stacked_dcnn_val = []\n",
        "stacked_dcnn_epo = []\n",
        "stacked_dcnn_count = 1\n",
        "\n",
        "# Train model with adam\n",
        "stacked_denoise = stacked_DnCNN.fit_generator(generator=denoise_generator,\n",
        "                                              epochs=1,\n",
        "                                              verbose=1,\n",
        "                                              validation_data=full_denoise_generator_val)\n",
        "\n",
        "stacked_dcnn_epo.append(stacked_dcnn_count)\n",
        "stacked_dcnn_loss.append(stacked_denoise.history['loss'])\n",
        "stacked_dcnn_val.append(stacked_denoise.history['val_loss'])\n",
        "stacked_dcnn_count += 1\n",
        "\n",
        "# Save model\n",
        "stacked_DnCNN.save('Stacked_DcNN_hitrain_1e.h5')\n",
        "!curl -F \"file=@Stacked_DcNN_hitrain_1e.h5\" https://file.io"
      ],
      "execution_count": 0,
      "outputs": [
        {
          "output_type": "stream",
          "text": [
            "Epoch 1/1\n",
            "17016/17016 [==============================] - 1546s 91ms/step - loss: 4.7157 - val_loss: 4.7801\n",
            "{\"success\":true,\"key\":\"oS0y1W\",\"link\":\"https://file.io/oS0y1W\",\"expiry\":\"14 days\"}"
          ],
          "name": "stdout"
        }
      ]
    },
    {
      "metadata": {
        "id": "-K3GcFjs-wk-",
        "colab_type": "code",
        "outputId": "299fd5bb-1c85-4460-f858-cae527e8d054",
        "colab": {
          "base_uri": "https://localhost:8080/",
          "height": 87
        }
      },
      "cell_type": "code",
      "source": [
        "## Random seeds\n",
        "random.seed(5)\n",
        "\n",
        "# To use a small amount of data\n",
        "denoise_generator = DenoiseHPatches(random.sample(seqs_train, 40), batch_size=50)\n",
        "\n",
        "\n",
        "# Train model with adam\n",
        "stacked_denoise = stacked_DnCNN.fit_generator(generator=denoise_generator,\n",
        "                                              epochs=1,\n",
        "                                              verbose=1,\n",
        "                                              validation_data=full_denoise_generator_val)\n",
        "\n",
        "stacked_dcnn_epo.append(stacked_dcnn_count)\n",
        "stacked_dcnn_loss.append(stacked_denoise.history['loss'])\n",
        "stacked_dcnn_val.append(stacked_denoise.history['val_loss'])\n",
        "stacked_dcnn_count += 1\n",
        "\n",
        "# Save model\n",
        "stacked_DnCNN.save('Stacked_DcNN_hitrain_2e.h5')\n",
        "!curl -F \"file=@Stacked_DcNN_hitrain_2e.h5\" https://file.io\n",
        "    \n",
        "    "
      ],
      "execution_count": 0,
      "outputs": [
        {
          "output_type": "stream",
          "text": [
            "100%|██████████| 40/40 [00:33<00:00,  1.17s/it]\n"
          ],
          "name": "stderr"
        },
        {
          "output_type": "stream",
          "text": [
            "Epoch 1/1\n",
            "14661/14661 [==============================] - 1397s 95ms/step - loss: 4.7995 - val_loss: 4.7728\n",
            "{\"success\":true,\"key\":\"Kri85s\",\"link\":\"https://file.io/Kri85s\",\"expiry\":\"14 days\"}"
          ],
          "name": "stdout"
        }
      ]
    },
    {
      "metadata": {
        "id": "3PuifIPPa0yM",
        "colab_type": "text"
      },
      "cell_type": "markdown",
      "source": [
        "### Further training with larger batch sizes and all data"
      ]
    },
    {
      "metadata": {
        "id": "NCO6RzSUcBtk",
        "colab_type": "code",
        "outputId": "2763206c-f0b8-428e-cdeb-397246232ffe",
        "colab": {
          "base_uri": "https://localhost:8080/",
          "height": 34
        }
      },
      "cell_type": "code",
      "source": [
        "denoise_generator = DenoiseHPatches(seqs_train, batch_size = 150)"
      ],
      "execution_count": 0,
      "outputs": [
        {
          "output_type": "stream",
          "text": [
            "100%|██████████| 76/76 [01:12<00:00,  1.14it/s]\n"
          ],
          "name": "stderr"
        }
      ]
    },
    {
      "metadata": {
        "id": "tPVd7trra7aX",
        "colab_type": "code",
        "outputId": "f1b71446-d73d-4eec-b4d6-f823e177bd21",
        "colab": {
          "base_uri": "https://localhost:8080/",
          "height": 210
        }
      },
      "cell_type": "code",
      "source": [
        "for e in range(2):\n",
        "  print(stacked_dcnn_count)\n",
        "  stacked_denoise = stacked_DnCNN.fit_generator(generator=denoise_generator,\n",
        "                                              epochs=1,\n",
        "                                              verbose=1,\n",
        "                                              validation_data=full_denoise_generator_val)\n",
        "\n",
        "  stacked_dcnn_epo.append(stacked_dcnn_count)\n",
        "  stacked_dcnn_loss.append(stacked_denoise.history['loss'])\n",
        "  stacked_dcnn_val.append(stacked_denoise.history['val_loss'])\n",
        "  stacked_dcnn_count += 1\n",
        "\n",
        "  print(stacked_dcnn_loss)\n",
        "  print(stacked_dcnn_val)\n",
        "  # Save model\n",
        "  stacked_DnCNN.save('Stacked_DcNN_hitrain_4e.h5')\n",
        "  !curl -F \"file=@Stacked_DcNN_hitrain_4e.h5\" https://file.io"
      ],
      "execution_count": 0,
      "outputs": [
        {
          "output_type": "stream",
          "text": [
            "3\n",
            "Epoch 1/1\n",
            "10393/10393 [==============================] - 1902s 183ms/step - loss: 4.7566 - val_loss: 4.7541\n",
            "[[4.715741028150147], [4.799514106445151], [4.756613802086294]]\n",
            "[[4.7800538757654625], [4.772829051443285], [4.75410113145673]]\n",
            "{\"success\":true,\"key\":\"mezug8\",\"link\":\"https://file.io/mezug8\",\"expiry\":\"14 days\"}4\n",
            "Epoch 1/1\n",
            "10393/10393 [==============================] - 1899s 183ms/step - loss: 4.7479 - val_loss: 4.7438\n",
            "[[4.715741028150147], [4.799514106445151], [4.756613802086294], [4.7479170748144375]]\n",
            "[[4.7800538757654625], [4.772829051443285], [4.75410113145673], [4.743826312856099]]\n",
            "{\"success\":true,\"key\":\"4raREr\",\"link\":\"https://file.io/4raREr\",\"expiry\":\"14 days\"}"
          ],
          "name": "stdout"
        }
      ]
    },
    {
      "metadata": {
        "id": "dSmPKK3cdXdj",
        "colab_type": "code",
        "outputId": "1b036738-1b38-40f7-d31e-5c582d7f901b",
        "colab": {
          "base_uri": "https://localhost:8080/",
          "height": 210
        }
      },
      "cell_type": "code",
      "source": [
        "for e in range(2):\n",
        "  print(stacked_dcnn_count)\n",
        "  stacked_denoise = stacked_DnCNN.fit_generator(generator=denoise_generator,\n",
        "                                              epochs=1,\n",
        "                                              verbose=1,\n",
        "                                              validation_data=full_denoise_generator_val)\n",
        "\n",
        "  stacked_dcnn_epo.append(stacked_dcnn_count)\n",
        "  stacked_dcnn_loss.append(stacked_denoise.history['loss'])\n",
        "  stacked_dcnn_val.append(stacked_denoise.history['val_loss'])\n",
        "  stacked_dcnn_count += 1\n",
        "\n",
        "  print(stacked_dcnn_loss)\n",
        "  print(stacked_dcnn_val)\n",
        "  # Save model\n",
        "  stacked_DnCNN.save('Stacked_DcNN_hitrain_6e.h5')\n",
        "  !curl -F \"file=@Stacked_DcNN_hitrain_6e.h5\" https://file.io"
      ],
      "execution_count": 0,
      "outputs": [
        {
          "output_type": "stream",
          "text": [
            "5\n",
            "Epoch 1/1\n",
            "10393/10393 [==============================] - 1893s 182ms/step - loss: 4.7428 - val_loss: 4.7375\n",
            "[[4.715741028150147], [4.799514106445151], [4.756613802086294], [4.7479170748144375], [4.742768291191498]]\n",
            "[[4.7800538757654625], [4.772829051443285], [4.75410113145673], [4.743826312856099], [4.737480511803014]]\n",
            "{\"success\":true,\"key\":\"i68OpO\",\"link\":\"https://file.io/i68OpO\",\"expiry\":\"14 days\"}6\n",
            "Epoch 1/1\n",
            "10393/10393 [==============================] - 1897s 183ms/step - loss: 4.7389 - val_loss: 4.7366\n",
            "[[4.715741028150147], [4.799514106445151], [4.756613802086294], [4.7479170748144375], [4.742768291191498], [4.738893181415353]]\n",
            "[[4.7800538757654625], [4.772829051443285], [4.75410113145673], [4.743826312856099], [4.737480511803014], [4.736644077939311]]\n",
            "{\"success\":true,\"key\":\"2xGH3k\",\"link\":\"https://file.io/2xGH3k\",\"expiry\":\"14 days\"}"
          ],
          "name": "stdout"
        }
      ]
    },
    {
      "metadata": {
        "id": "VZ9YJw7H7Zot",
        "colab_type": "text"
      },
      "cell_type": "markdown",
      "source": [
        "Plot the stacked network learning curve."
      ]
    },
    {
      "metadata": {
        "id": "a7VXr2DW7MO_",
        "colab_type": "code",
        "colab": {
          "base_uri": "https://localhost:8080/",
          "height": 318
        },
        "outputId": "58ffef1c-4675-4265-9406-c81fb7d7475c"
      },
      "cell_type": "code",
      "source": [
        "stacked_dcnn_loss = [[4.715741028150147], [4.799514106445151], [4.756613802086294], [4.7479170748144375], [4.742768291191498], [4.738893181415353]]\n",
        "stacked_dcnn_val = [[4.7800538757654625], [4.772829051443285], [4.75410113145673], [4.743826312856099], [4.737480511803014], [4.736644077939311]]\n",
        "\n",
        "\n",
        "plt.plot(np.arange(1,7),stacked_dcnn_loss)\n",
        "plt.plot(np.arange(1,7),stacked_dcnn_val)\n",
        "plt.ylim([4.65,4.85])\n",
        "\n",
        "plt.title('Stacked DnCNN denoiser learning curve', fontsize = 18)\n",
        "plt.ylabel('MAE', fontsize = 16)\n",
        "plt.xlabel('Epoch', fontsize = 16)\n",
        "plt.legend(['Train loss','Validation loss'])"
      ],
      "execution_count": 28,
      "outputs": [
        {
          "output_type": "execute_result",
          "data": {
            "text/plain": [
              "<matplotlib.legend.Legend at 0x7f1d4e1da048>"
            ]
          },
          "metadata": {
            "tags": []
          },
          "execution_count": 28
        },
        {
          "output_type": "display_data",
          "data": {
            "image/png": "[encoded data removed]",
            "text/plain": [
              "<Figure size 432x288 with 1 Axes>"
            ]
          },
          "metadata": {
            "tags": []
          }
        }
      ]
    },
    {
      "metadata": {
        "id": "6lbtnYpSjGJF",
        "colab_type": "text"
      },
      "cell_type": "markdown",
      "source": [
        "### Save all"
      ]
    },
    {
      "metadata": {
        "id": "H4rMIZcJhznd",
        "colab_type": "code",
        "outputId": "427ba44e-d341-46e8-cb01-e1e672a39854",
        "colab": {
          "base_uri": "https://localhost:8080/",
          "height": 54
        }
      },
      "cell_type": "code",
      "source": [
        "# Save all models\n",
        "first_DnCNN.save('first_DcNN_hitrain_6e.h5')\n",
        "!curl -F \"file=@first_DcNN_hitrain_6e.h5\" https://file.io\n",
        "  \n",
        "first_DnCNN.save('second_DcNN_hitrain_6e.h5')\n",
        "!curl -F \"file=@second_DcNN_hitrain_6e.h5\" https://file.io\n",
        "  \n",
        "stacked_DnCNN.save('Stacked_DcNN_hitrain_6e.h5')\n",
        "!curl -F \"file=@Stacked_DcNN_hitrain_6e.h5\" https://file.io\n"
      ],
      "execution_count": 0,
      "outputs": [
        {
          "output_type": "stream",
          "text": [
            "{\"success\":true,\"key\":\"iwje7t\",\"link\":\"https://file.io/iwje7t\",\"expiry\":\"14 days\"}{\"success\":true,\"key\":\"1lQ1sW\",\"link\":\"https://file.io/1lQ1sW\",\"expiry\":\"14 days\"}{\"success\":true,\"key\":\"FUB6pd\",\"link\":\"https://file.io/FUB6pd\",\"expiry\":\"14 days\"}"
          ],
          "name": "stdout"
        }
      ]
    },
    {
      "metadata": {
        "id": "fERxMNUV2iZf",
        "colab_type": "code",
        "colab": {}
      },
      "cell_type": "code",
      "source": [
        "# Import trained shallow DnCNN\n",
        "first_DnCNN = keras.models.load_model('./first_DcNN_hitrain_6e.h5')\n",
        "first_DnCNN.name = 'first_DnCNN'\n",
        "\n",
        "for lr in first_DnCNN.layers:\n",
        "  lr.name = '1st_DcNN_'+lr.name\n",
        "\n",
        "# Import second shallow trainable DnCNN\n",
        "second_DnCNN = keras.models.load_model('./second_DcNN_hitrain_6e.h5')\n",
        "for lr in second_DnCNN.layers:\n",
        "  lr.name = '2nd_DcNN_'+lr.name\n",
        "second_DnCNN.name = 'second_DnCNN'\n",
        "  \n",
        "hard_noise_input = Input((32,32,1))\n",
        "denoised1 = first_DnCNN(hard_noise_input)\n",
        "re_denoised = second_DnCNN(denoised1)\n",
        "\n",
        "stacked_DnCNN = Model(hard_noise_input, re_denoised)\n",
        "stacked_DnCNN.compile(optimizer='Adagrad', loss='mean_absolute_error')"
      ],
      "execution_count": 0,
      "outputs": []
    }
  ]
}
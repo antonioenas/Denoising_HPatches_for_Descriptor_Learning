{
  "nbformat": 4,
  "nbformat_minor": 0,
  "metadata": {
    "colab": {
      "name": "1_baseline_denoiser.ipynb",
      "version": "0.3.2",
      "provenance": [],
      "toc_visible": true,
      "include_colab_link": true
    },
    "kernelspec": {
      "name": "python3",
      "display_name": "Python 3"
    },
    "accelerator": "GPU"
  },
  "cells": [
    {
      "cell_type": "markdown",
      "metadata": {
        "id": "view-in-github",
        "colab_type": "text"
      },
      "source": [
        "<a href=\"https://colab.research.google.com/github/antonioenas/Denoising_HPatches_for_Descriptor_Learning/blob/master/1_baseline_denoiser.ipynb\" target=\"_parent\"><img src=\"https://colab.research.google.com/assets/colab-badge.svg\" alt=\"Open In Colab\"/></a>"
      ]
    },
    {
      "metadata": {
        "id": "ZInL8SHokoU3",
        "colab_type": "text"
      },
      "cell_type": "markdown",
      "source": [
        "# 1) Baseline denoiser - Deep learning coursework, Imperial College London\n",
        "**Antonio Enas, 01070859, AE1115**\n",
        "\n",
        "\n",
        "---\n",
        "\n",
        "In this notebook, the user can generate and train the baseline denoiser model.\n",
        "\n",
        "Structure:\n",
        "1. Environment set up\n",
        "2. Define model\n",
        "3. Training up to 1 epoch\n",
        "4. Full training"
      ]
    },
    {
      "metadata": {
        "id": "6_QUBl_OC0Hv",
        "colab_type": "text"
      },
      "cell_type": "markdown",
      "source": [
        "# 1. Environment set up\n",
        "This section ensures all libraries and dataset are correctly imported.\n",
        "\n",
        "If data is already mounted select:\n",
        "              `import_data = False`"
      ]
    },
    {
      "metadata": {
        "id": "-nm263h1Ae_j",
        "colab_type": "code",
        "colab": {}
      },
      "cell_type": "code",
      "source": [
        "import_data = False"
      ],
      "execution_count": 0,
      "outputs": []
    },
    {
      "metadata": {
        "id": "BUgnMDQT1C67",
        "colab_type": "text"
      },
      "cell_type": "markdown",
      "source": [
        "### Optional GPU check"
      ]
    },
    {
      "metadata": {
        "id": "ZZG4BqkENEyd",
        "colab_type": "code",
        "colab": {}
      },
      "cell_type": "code",
      "source": [
        "# Taken from\n",
        "# https://stackoverflow.com/questions/48750199/google-colaboratory-misleading-information-about-its-gpu-only-5-ram-available\n",
        "# memory footprint support libraries/code\n",
        "!ln -sf /opt/bin/nvidia-smi /usr/bin/nvidia-smi\n",
        "!pip install gputil\n",
        "!pip install psutil\n",
        "!pip install humanize\n",
        "import psutil\n",
        "import humanize\n",
        "import os\n",
        "import GPUtil as GPU\n",
        "GPUs = GPU.getGPUs()\n",
        "# Colab only provides one GPU and it is not always guaranteed\n",
        "gpu = GPUs[0]\n",
        "def printm():\n",
        "  process = psutil.Process(os.getpid())\n",
        "  print(\"RAM Free: \" + humanize.naturalsize( psutil.virtual_memory().available ), \" | Proc size: \" + humanize.naturalsize( process.memory_info().rss))\n",
        "  print(\"GPU RAM Free: {0:.0f}MB | Used: {1:.0f}MB | Util {2:3.0f}% | Total {3:.0f}MB\".format(gpu.memoryFree, gpu.memoryUsed, gpu.memoryUtil*100, gpu.memoryTotal))\n",
        "printm()"
      ],
      "execution_count": 0,
      "outputs": []
    },
    {
      "metadata": {
        "id": "_rUCd3Te1KMl",
        "colab_type": "text"
      },
      "cell_type": "markdown",
      "source": [
        "### Cloning the repository and downloading the data"
      ]
    },
    {
      "metadata": {
        "id": "ytiLXn8wmoQP",
        "colab_type": "code",
        "colab": {
          "base_uri": "https://localhost:8080/",
          "height": 34
        },
        "outputId": "b08a4f53-9d61-41c1-876c-6299aa06a801"
      },
      "cell_type": "code",
      "source": [
        "if import_data == False:\n",
        "  # Change directory\n",
        "  %cd /content/keras_triplet_descriptor\n",
        "else:\n",
        "  # Clone repo\n",
        "  !git clone https://github.com/MatchLab-Imperial/keras_triplet_descriptor\n",
        "  %cd /content/keras_triplet_descriptor\n",
        "  # Download data\n",
        "  !wget -O hpatches_data.zip https://imperialcollegelondon.box.com/shared/static/ah40eq7cxpwq4a6l4f62efzdyt8rm3ha.zip\n",
        "  # Extract data\n",
        "  !unzip -q ./hpatches_data.zip\n",
        "  !rm ./hpatches_data.zip\n"
      ],
      "execution_count": 4,
      "outputs": [
        {
          "output_type": "stream",
          "text": [
            "/content/keras_triplet_descriptor\n"
          ],
          "name": "stdout"
        }
      ]
    },
    {
      "metadata": {
        "id": "Rjyr96hR_4wS",
        "colab_type": "text"
      },
      "cell_type": "markdown",
      "source": [
        "### Importing Necessary Modules"
      ]
    },
    {
      "metadata": {
        "id": "o0KYfe-at9KN",
        "colab_type": "code",
        "colab": {}
      },
      "cell_type": "code",
      "source": [
        "!pip install -U seaborn\n",
        "\n",
        "import sys\n",
        "import json\n",
        "import os\n",
        "import glob\n",
        "import time\n",
        "import tensorflow as tf\n",
        "import numpy as np\n",
        "import cv2\n",
        "import random\n",
        "\n",
        "import keras\n",
        "from keras import backend as K\n",
        "from keras.models import Sequential, Model\n",
        "from keras.layers import Dense, Dropout, Activation, Flatten, Input, Lambda, Reshape\n",
        "from keras.layers import Conv2D, MaxPooling2D, BatchNormalization \n",
        "from keras.layers import Input, UpSampling2D, concatenate  \n",
        "\n",
        "from read_data import HPatches, DataGeneratorDesc, hpatches_sequence_folder, DenoiseHPatches, tps\n",
        "from utils import generate_desc_csv, plot_denoise, plot_triplet\n",
        "\n",
        "# Plotting tools\n",
        "import matplotlib.pyplot as plt\n",
        "import seaborn as sns\n",
        "%matplotlib inline\n",
        "plt.style.use('seaborn-white')\n",
        "plt.rcParams[\"patch.force_edgecolor\"] = True\n",
        "\n",
        "# To download files\n",
        "from google.colab import files"
      ],
      "execution_count": 0,
      "outputs": []
    },
    {
      "metadata": {
        "id": "FwFuggKiFh-Y",
        "colab_type": "code",
        "colab": {}
      },
      "cell_type": "code",
      "source": [
        "random.seed(1234)\n",
        "np.random.seed(1234)\n",
        "tf.set_random_seed(1234)\n",
        "\n",
        "hpatches_dir = './hpatches'\n",
        "splits_path = './splits.json'\n",
        "\n",
        "splits_json = json.load(open(splits_path, 'rb'))\n",
        "split = splits_json['a']\n",
        "\n",
        "train_fnames = split['train']\n",
        "test_fnames = split['test']\n",
        "\n",
        "seqs = glob.glob(hpatches_dir+'/*')\n",
        "seqs = [os.path.abspath(p) for p in seqs]   \n",
        "seqs_train = list(filter(lambda x: x.split('/')[-1] in train_fnames, seqs)) \n",
        "seqs_test = list(filter(lambda x: x.split('/')[-1] in split['test'], seqs)) \n"
      ],
      "execution_count": 0,
      "outputs": []
    },
    {
      "metadata": {
        "id": "Fz9DKXVfPvES",
        "colab_type": "text"
      },
      "cell_type": "markdown",
      "source": [
        "# 2. Define model\n",
        "In this section the baseline mode, generator data and compiler are defined."
      ]
    },
    {
      "metadata": {
        "id": "sZkAJV1bSyZi",
        "colab_type": "text"
      },
      "cell_type": "markdown",
      "source": [
        "The baseline mode consists of a shallow U-Net."
      ]
    },
    {
      "metadata": {
        "id": "MNnSwg7p1pPY",
        "colab_type": "code",
        "colab": {}
      },
      "cell_type": "code",
      "source": [
        "def get_denoise_model(shape):\n",
        "    \n",
        "  inputs = Input(shape)\n",
        "  \n",
        "  ## Encoder starts\n",
        "  conv1 = Conv2D(16, 3, activation = 'relu', padding = 'same', kernel_initializer = 'he_normal')(inputs)\n",
        "  pool1 = MaxPooling2D(pool_size=(2, 2))(conv1)\n",
        "  \n",
        "  ## Bottleneck\n",
        "  conv2 = Conv2D(32, 3, activation = 'relu', padding = 'same', kernel_initializer = 'he_normal')(pool1)\n",
        "\n",
        "  ## Now the decoder starts\n",
        "  up3 = Conv2D(64, 2, activation = 'relu', padding = 'same', kernel_initializer = 'he_normal')(UpSampling2D(size = (2,2))(conv2))\n",
        "  merge3 = concatenate([conv1,up3], axis = -1)\n",
        "  conv3 = Conv2D(64, 3, activation = 'relu', padding = 'same', kernel_initializer = 'he_normal')(merge3)\n",
        "    \n",
        "  conv4 = Conv2D(1, 3,  padding = 'same')(conv3)\n",
        "\n",
        "  shallow_net = Model(inputs = inputs, outputs = conv4)\n",
        "  \n",
        "  return shallow_net\n"
      ],
      "execution_count": 0,
      "outputs": []
    },
    {
      "metadata": {
        "id": "0jDqU5VdRYpm",
        "colab_type": "text"
      },
      "cell_type": "markdown",
      "source": [
        "There are 76 sequences in the train set. To speed up training, only a portion can be used. It is suggested to use the entire dataset after the first epoch of training onto the smaller sample."
      ]
    },
    {
      "metadata": {
        "id": "imVAnqLk2Y0h",
        "colab_type": "code",
        "colab": {}
      },
      "cell_type": "code",
      "source": [
        "sequences_train = 3;            # over 76\n",
        "batch_size_gen_denoiser = 50;   # above 200 is not feasable in terms of RAM"
      ],
      "execution_count": 0,
      "outputs": []
    },
    {
      "metadata": {
        "id": "E_iUsQeASXC_",
        "colab_type": "code",
        "colab": {
          "base_uri": "https://localhost:8080/",
          "height": 52
        },
        "outputId": "e7b9bfcf-d900-435a-ff32-a67bc19459b6"
      },
      "cell_type": "code",
      "source": [
        "# Train sequence generator\n",
        "if sequences_train < 76:\n",
        "  denoise_generator = DenoiseHPatches(random.sample(seqs_train, sequences_train), batch_size=50)\n",
        "elif sequences_train == 76:\n",
        "  denoise_generator = DenoiseHPatches(seqs_train, batch_size=50)\n",
        "\n",
        "# Validation sequence generator\n",
        "denoise_generator_val = DenoiseHPatches(seqs_test, batch_size=50)"
      ],
      "execution_count": 13,
      "outputs": [
        {
          "output_type": "stream",
          "text": [
            "100%|██████████| 3/3 [00:02<00:00,  1.09s/it]\n",
            "100%|██████████| 40/40 [00:42<00:00,  1.23it/s]\n"
          ],
          "name": "stderr"
        }
      ]
    },
    {
      "metadata": {
        "id": "CYniR5pdSxL8",
        "colab_type": "text"
      },
      "cell_type": "markdown",
      "source": [
        "The baseline optimiser is SGD. However, Adam provides faster convergence to a smaller MAE. To run the code and save the baseline model obtained with either of the two, please select the `optimiser_name` variable to be either `'sgd'` or `'adam'`."
      ]
    },
    {
      "metadata": {
        "id": "auZw6r-uSqo-",
        "colab_type": "code",
        "colab": {}
      },
      "cell_type": "code",
      "source": [
        "optimiser_name = 'adam'"
      ],
      "execution_count": 0,
      "outputs": []
    },
    {
      "metadata": {
        "id": "HboOXNAK20Hw",
        "colab_type": "code",
        "colab": {}
      },
      "cell_type": "code",
      "source": [
        "# Random seeds\n",
        "random.seed(1234)\n",
        "np.random.seed(1234)\n",
        "tf.set_random_seed(1234)\n",
        "\n",
        "# Input shape\n",
        "ip_shape = (32,32,1)\n",
        "\n",
        "# Compile model\n",
        "denoise_model = get_denoise_model(ip_shape)\n",
        "denoise_model.compile(loss='mean_absolute_error', optimizer=optimiser_name)\n"
      ],
      "execution_count": 0,
      "outputs": []
    },
    {
      "metadata": {
        "id": "_X91J_WrYoTQ",
        "colab_type": "text"
      },
      "cell_type": "markdown",
      "source": [
        "Print the model summary."
      ]
    },
    {
      "metadata": {
        "id": "9GOTGRHB8EFR",
        "colab_type": "code",
        "colab": {
          "base_uri": "https://localhost:8080/",
          "height": 474
        },
        "outputId": "6a9610b1-783e-47ff-891b-3b7117d30fa5"
      },
      "cell_type": "code",
      "source": [
        "denoise_model.summary()"
      ],
      "execution_count": 16,
      "outputs": [
        {
          "output_type": "stream",
          "text": [
            "__________________________________________________________________________________________________\n",
            "Layer (type)                    Output Shape         Param #     Connected to                     \n",
            "==================================================================================================\n",
            "input_2 (InputLayer)            (None, 32, 32, 1)    0                                            \n",
            "__________________________________________________________________________________________________\n",
            "conv2d_6 (Conv2D)               (None, 32, 32, 16)   160         input_2[0][0]                    \n",
            "__________________________________________________________________________________________________\n",
            "max_pooling2d_2 (MaxPooling2D)  (None, 16, 16, 16)   0           conv2d_6[0][0]                   \n",
            "__________________________________________________________________________________________________\n",
            "conv2d_7 (Conv2D)               (None, 16, 16, 32)   4640        max_pooling2d_2[0][0]            \n",
            "__________________________________________________________________________________________________\n",
            "up_sampling2d_2 (UpSampling2D)  (None, 32, 32, 32)   0           conv2d_7[0][0]                   \n",
            "__________________________________________________________________________________________________\n",
            "conv2d_8 (Conv2D)               (None, 32, 32, 64)   8256        up_sampling2d_2[0][0]            \n",
            "__________________________________________________________________________________________________\n",
            "concatenate_2 (Concatenate)     (None, 32, 32, 80)   0           conv2d_6[0][0]                   \n",
            "                                                                 conv2d_8[0][0]                   \n",
            "__________________________________________________________________________________________________\n",
            "conv2d_9 (Conv2D)               (None, 32, 32, 64)   46144       concatenate_2[0][0]              \n",
            "__________________________________________________________________________________________________\n",
            "conv2d_10 (Conv2D)              (None, 32, 32, 1)    577         conv2d_9[0][0]                   \n",
            "==================================================================================================\n",
            "Total params: 59,777\n",
            "Trainable params: 59,777\n",
            "Non-trainable params: 0\n",
            "__________________________________________________________________________________________________\n"
          ],
          "name": "stdout"
        }
      ]
    },
    {
      "metadata": {
        "id": "-Upi0QGbP8MZ",
        "colab_type": "text"
      },
      "cell_type": "markdown",
      "source": [
        "# 3. Training up to 1 epoch\n",
        "A single epoch of training constitutes the actual baseline denoiser model. Click on the link to the remote host to download the saved model."
      ]
    },
    {
      "metadata": {
        "id": "edwbgE6yKqcD",
        "colab_type": "code",
        "outputId": "0073cd34-dd86-4d2f-d04d-feb3929ba211",
        "colab": {
          "base_uri": "https://localhost:8080/",
          "height": 125
        }
      },
      "cell_type": "code",
      "source": [
        "# Train model with adam\n",
        "baseline_denoiser_history = denoise_model.fit_generator(\n",
        "                                              generator=denoise_generator,\n",
        "                                              epochs=1,\n",
        "                                              verbose=1,\n",
        "                                              validation_data=denoise_generator_val)\n"
      ],
      "execution_count": 17,
      "outputs": [
        {
          "output_type": "stream",
          "text": [
            "WARNING:tensorflow:From /usr/local/lib/python3.6/dist-packages/tensorflow/python/ops/math_ops.py:3066: to_int32 (from tensorflow.python.ops.math_ops) is deprecated and will be removed in a future version.\n",
            "Instructions for updating:\n",
            "Use tf.cast instead.\n",
            "Epoch 1/1\n",
            "1275/1275 [==============================] - 179s 140ms/step - loss: 7.3350 - val_loss: 6.1207\n"
          ],
          "name": "stdout"
        }
      ]
    },
    {
      "metadata": {
        "id": "94GR2x4jcDDB",
        "colab_type": "text"
      },
      "cell_type": "markdown",
      "source": [
        "Save the model for future use in the evaluation section."
      ]
    },
    {
      "metadata": {
        "id": "Ap5qltqOcLXb",
        "colab_type": "code",
        "colab": {
          "base_uri": "https://localhost:8080/",
          "height": 34
        },
        "outputId": "50e67467-21ed-401c-c1d5-11c2c4a276ed"
      },
      "cell_type": "code",
      "source": [
        "# Save model\n",
        "denoise_model.save('bs_denoiser_1e.h5') \n",
        "# Upload model\n",
        "!curl -F \"file=@bs_denoiser_1e.h5\" https://file.io"
      ],
      "execution_count": 18,
      "outputs": [
        {
          "output_type": "stream",
          "text": [
            "{\"success\":true,\"key\":\"jWdIOA\",\"link\":\"https://file.io/jWdIOA\",\"expiry\":\"14 days\"}"
          ],
          "name": "stdout"
        }
      ]
    },
    {
      "metadata": {
        "id": "9_oEhSvjfRUl",
        "colab_type": "code",
        "colab": {}
      },
      "cell_type": "code",
      "source": [
        "bs_den_loss = baseline_denoiser_history.history['loss']\n",
        "bs_den_val_loss = baseline_denoiser_history.history['val_loss']"
      ],
      "execution_count": 0,
      "outputs": []
    },
    {
      "metadata": {
        "id": "3Tar1JkVQJyL",
        "colab_type": "text"
      },
      "cell_type": "markdown",
      "source": [
        "# 4. Full training\n",
        "In this section the baseline denoiser model is trained until convergence for further comparison with the improved proposed solution. 10 epochs in total is the standard length chosen to display learning curve behaviour but it is modifiable through the parameter `full_training_epochs`."
      ]
    },
    {
      "metadata": {
        "id": "ThRBlxaBVdhE",
        "colab_type": "code",
        "colab": {}
      },
      "cell_type": "code",
      "source": [
        "full_training_epochs = 10"
      ],
      "execution_count": 0,
      "outputs": []
    },
    {
      "metadata": {
        "id": "RI-3OoPtg98P",
        "colab_type": "code",
        "outputId": "d39d6b23-6252-4b14-e1e7-c3a22efad656",
        "colab": {
          "base_uri": "https://localhost:8080/",
          "height": 334
        }
      },
      "cell_type": "code",
      "source": [
        "denoise_history = denoise_model.fit_generator(generator=denoise_generator, \n",
        "                                                epochs=full_training_epochs-1, verbose=1, \n",
        "                                                validation_data=denoise_generator_val)\n"
      ],
      "execution_count": 21,
      "outputs": [
        {
          "output_type": "stream",
          "text": [
            "Epoch 1/9\n",
            "1275/1275 [==============================] - 176s 138ms/step - loss: 5.5725 - val_loss: 5.7245\n",
            "Epoch 2/9\n",
            "1275/1275 [==============================] - 177s 139ms/step - loss: 5.3947 - val_loss: 5.6331\n",
            "Epoch 3/9\n",
            "1275/1275 [==============================] - 176s 138ms/step - loss: 5.2538 - val_loss: 5.6278\n",
            "Epoch 4/9\n",
            "1275/1275 [==============================] - 178s 140ms/step - loss: 5.1921 - val_loss: 5.5124\n",
            "Epoch 5/9\n",
            "1275/1275 [==============================] - 173s 136ms/step - loss: 5.1099 - val_loss: 5.5620\n",
            "Epoch 6/9\n",
            "1275/1275 [==============================] - 174s 136ms/step - loss: 5.0743 - val_loss: 5.4326\n",
            "Epoch 7/9\n",
            "1275/1275 [==============================] - 173s 136ms/step - loss: 5.0385 - val_loss: 5.4781\n",
            "Epoch 8/9\n",
            "1275/1275 [==============================] - 175s 137ms/step - loss: 4.9959 - val_loss: 5.4026\n",
            "Epoch 9/9\n",
            "1275/1275 [==============================] - 174s 137ms/step - loss: 4.9803 - val_loss: 5.5077\n"
          ],
          "name": "stdout"
        }
      ]
    },
    {
      "metadata": {
        "id": "HeAvFqtFfmwH",
        "colab_type": "text"
      },
      "cell_type": "markdown",
      "source": [
        "Save the model after 10 epochs of training."
      ]
    },
    {
      "metadata": {
        "id": "aeaRbzKzfqq7",
        "colab_type": "code",
        "colab": {
          "base_uri": "https://localhost:8080/",
          "height": 34
        },
        "outputId": "7aa6cab6-8374-49c4-fbe8-e1110f704b82"
      },
      "cell_type": "code",
      "source": [
        "# Save model\n",
        "denoise_model.save('bs_denoiser_10e.h5') \n",
        "# Upload model\n",
        "!curl -F \"file=@bs_denoiser_10e.h5\" https://file.io"
      ],
      "execution_count": 22,
      "outputs": [
        {
          "output_type": "stream",
          "text": [
            "{\"success\":true,\"key\":\"YzqssW\",\"link\":\"https://file.io/YzqssW\",\"expiry\":\"14 days\"}"
          ],
          "name": "stdout"
        }
      ]
    },
    {
      "metadata": {
        "id": "h32ekbVsfmBD",
        "colab_type": "code",
        "colab": {}
      },
      "cell_type": "code",
      "source": [
        "bs_den_loss.extend(baseline_denoiser_history.history['loss'])\n",
        "bs_den_val_loss.extend(baseline_denoiser_history.history['val_loss'])"
      ],
      "execution_count": 0,
      "outputs": []
    },
    {
      "metadata": {
        "id": "_nEiqaP_bFYs",
        "colab_type": "text"
      },
      "cell_type": "markdown",
      "source": [
        "Plot learning curves."
      ]
    },
    {
      "metadata": {
        "colab_type": "code",
        "outputId": "284acfef-be6d-418e-90a3-dcf5ec37b347",
        "id": "_TlmnkH_Ubpk",
        "colab": {
          "base_uri": "https://localhost:8080/",
          "height": 318
        }
      },
      "cell_type": "code",
      "source": [
        "# Mean absolute error\n",
        "plt.plot(np.arange(1,11), bs_den_loss)\n",
        "plt.plot(np.arange(1,11), bs_den_val_loss)\n",
        "\n",
        "plt.title('Baseline denoiser learning curve', fontsize = 18)\n",
        "plt.ylabel('MAE', fontsize = 16)\n",
        "plt.xlabel('Epoch', fontsize = 16)\n",
        "plt.legend(['Train loss','Validation loss'])"
      ],
      "execution_count": 8,
      "outputs": [
        {
          "output_type": "execute_result",
          "data": {
            "text/plain": [
              "<matplotlib.legend.Legend at 0x7f5d6e2fb518>"
            ]
          },
          "metadata": {
            "tags": []
          },
          "execution_count": 8
        },
        {
          "output_type": "display_data",
          "data": {
            "image/png": "[encoded data removed]",
            "text/plain": [
              "<Figure size 432x288 with 1 Axes>"
            ]
          },
          "metadata": {
            "tags": []
          }
        }
      ]
    },
    {
      "metadata": {
        "id": "Y7auXCg3gush",
        "colab_type": "text"
      },
      "cell_type": "markdown",
      "source": [
        "Plot an example of noisy, denoised and ground truth images for qualitative evaluation."
      ]
    },
    {
      "metadata": {
        "colab_type": "code",
        "outputId": "b72f62ab-d28c-4cde-de57-1d209744b171",
        "id": "omrLeygvUbpq",
        "colab": {
          "base_uri": "https://localhost:8080/",
          "height": 201
        }
      },
      "cell_type": "code",
      "source": [
        "plot_denoise(denoise_model)"
      ],
      "execution_count": 0,
      "outputs": [
        {
          "output_type": "stream",
          "text": [
            "100%|██████████| 1/1 [00:00<00:00,  1.57it/s]\n"
          ],
          "name": "stderr"
        },
        {
          "output_type": "display_data",
          "data": {
            "image/png": "[encoded data removed]",
            "text/plain": [
              "<Figure size 576x396 with 3 Axes>"
            ]
          },
          "metadata": {
            "tags": []
          }
        }
      ]
    }
  ]
}
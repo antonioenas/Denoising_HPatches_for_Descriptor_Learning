{
  "nbformat": 4,
  "nbformat_minor": 0,
  "metadata": {
    "colab": {
      "name": "2_baseline_descriptor.ipynb",
      "version": "0.3.2",
      "provenance": [],
      "include_colab_link": true
    },
    "kernelspec": {
      "name": "python3",
      "display_name": "Python 3"
    },
    "accelerator": "GPU"
  },
  "cells": [
    {
      "cell_type": "markdown",
      "metadata": {
        "id": "view-in-github",
        "colab_type": "text"
      },
      "source": [
        "<a href=\"https://colab.research.google.com/github/antonioenas/Denoising_HPatches_for_Descriptor_Learning/blob/master/2_baseline_descriptor.ipynb\" target=\"_parent\"><img src=\"https://colab.research.google.com/assets/colab-badge.svg\" alt=\"Open In Colab\"/></a>"
      ]
    },
    {
      "metadata": {
        "id": "ZInL8SHokoU3",
        "colab_type": "text"
      },
      "cell_type": "markdown",
      "source": [
        "# 2) Baseline descriptor - Deep learning coursework, Imperial College London\n",
        "**Antonio Enas, 01070859, AE1115**\n",
        "\n",
        "\n",
        "---\n",
        "\n",
        "In this notebook, the user can generate, train and save the baseline descriptor model.\n",
        "The notebook can be used to train both onto clean patches and denoised patches, prior loading of a denoiser model.\n",
        "\n",
        "\n",
        "To use denoised patches, load a Keras .h5 model in `denoiser_model` and set `use_clean_bool = True`.\n",
        "\n",
        "\n",
        "Structure:\n",
        "1. Environment set up\n",
        "2. Define model\n",
        "3. Training up to 1 epoch\n",
        "4. Full training"
      ]
    },
    {
      "metadata": {
        "id": "LP0dAehykbu5",
        "colab_type": "code",
        "colab": {}
      },
      "cell_type": "code",
      "source": [
        "use_clean_bool = True\n",
        "denoiser_model = None"
      ],
      "execution_count": 0,
      "outputs": []
    },
    {
      "metadata": {
        "id": "6_QUBl_OC0Hv",
        "colab_type": "text"
      },
      "cell_type": "markdown",
      "source": [
        "# 1. Environment set up\n",
        "This section ensures all libraries and dataset are correctly imported.\n",
        "\n",
        "If data is already mounted select:\n",
        "              `import_data = False`"
      ]
    },
    {
      "metadata": {
        "id": "-nm263h1Ae_j",
        "colab_type": "code",
        "colab": {}
      },
      "cell_type": "code",
      "source": [
        "import_data = False"
      ],
      "execution_count": 0,
      "outputs": []
    },
    {
      "metadata": {
        "id": "BUgnMDQT1C67",
        "colab_type": "text"
      },
      "cell_type": "markdown",
      "source": [
        "### Optional GPU check"
      ]
    },
    {
      "metadata": {
        "id": "ZZG4BqkENEyd",
        "colab_type": "code",
        "colab": {}
      },
      "cell_type": "code",
      "source": [
        "# Taken from\n",
        "# https://stackoverflow.com/questions/48750199/google-colaboratory-misleading-information-about-its-gpu-only-5-ram-available\n",
        "# memory footprint support libraries/code\n",
        "!ln -sf /opt/bin/nvidia-smi /usr/bin/nvidia-smi\n",
        "!pip install gputil\n",
        "!pip install psutil\n",
        "!pip install humanize\n",
        "import psutil\n",
        "import humanize\n",
        "import os\n",
        "import GPUtil as GPU\n",
        "GPUs = GPU.getGPUs()\n",
        "# Colab only provides one GPU and it is not always guaranteed\n",
        "gpu = GPUs[0]\n",
        "def printm():\n",
        "  process = psutil.Process(os.getpid())\n",
        "  print(\"RAM Free: \" + humanize.naturalsize( psutil.virtual_memory().available ), \" | Proc size: \" + humanize.naturalsize( process.memory_info().rss))\n",
        "  print(\"GPU RAM Free: {0:.0f}MB | Used: {1:.0f}MB | Util {2:3.0f}% | Total {3:.0f}MB\".format(gpu.memoryFree, gpu.memoryUsed, gpu.memoryUtil*100, gpu.memoryTotal))\n",
        "printm()"
      ],
      "execution_count": 0,
      "outputs": []
    },
    {
      "metadata": {
        "id": "SxnxYAEIWNsA",
        "colab_type": "code",
        "outputId": "9bd8a320-bf14-4ad4-b311-fae8270a1db5",
        "colab": {
          "base_uri": "https://localhost:8080/",
          "height": 34
        }
      },
      "cell_type": "code",
      "source": [
        "import GPUtil as GPU\n",
        "GPUs = GPU.getGPUs()\n",
        "\n",
        "GPUs"
      ],
      "execution_count": 0,
      "outputs": [
        {
          "output_type": "execute_result",
          "data": {
            "text/plain": [
              "[]"
            ]
          },
          "metadata": {
            "tags": []
          },
          "execution_count": 2
        }
      ]
    },
    {
      "metadata": {
        "id": "_rUCd3Te1KMl",
        "colab_type": "text"
      },
      "cell_type": "markdown",
      "source": [
        "### Cloning the repository and downloading the data"
      ]
    },
    {
      "metadata": {
        "id": "ytiLXn8wmoQP",
        "colab_type": "code",
        "colab": {}
      },
      "cell_type": "code",
      "source": [
        "if import_data == False:\n",
        "  # Change directory\n",
        "  %cd /content/keras_triplet_descriptor\n",
        "else:\n",
        "  # Clone repo\n",
        "  !git clone https://github.com/MatchLab-Imperial/keras_triplet_descriptor\n",
        "  %cd /content/keras_triplet_descriptor\n",
        "  # Download data\n",
        "  !wget -O hpatches_data.zip https://imperialcollegelondon.box.com/shared/static/ah40eq7cxpwq4a6l4f62efzdyt8rm3ha.zip\n",
        "  # Extract data\n",
        "  !unzip -q ./hpatches_data.zip\n",
        "  !rm ./hpatches_data.zip\n"
      ],
      "execution_count": 0,
      "outputs": []
    },
    {
      "metadata": {
        "id": "Rjyr96hR_4wS",
        "colab_type": "text"
      },
      "cell_type": "markdown",
      "source": [
        "### Importing Necessary Modules"
      ]
    },
    {
      "metadata": {
        "id": "o0KYfe-at9KN",
        "colab_type": "code",
        "colab": {}
      },
      "cell_type": "code",
      "source": [
        "!pip install -U seaborn\n",
        "\n",
        "import sys\n",
        "import json\n",
        "import os\n",
        "import glob\n",
        "import time\n",
        "import tensorflow as tf\n",
        "import numpy as np\n",
        "import cv2\n",
        "import random\n",
        "\n",
        "import keras\n",
        "from keras import backend as K\n",
        "from keras.models import Sequential, Model\n",
        "from keras.layers import Dense, Dropout, Activation, Flatten, Input, Lambda, Reshape\n",
        "from keras.layers import Conv2D, MaxPooling2D, BatchNormalization \n",
        "from keras.layers import Input, UpSampling2D, concatenate  \n",
        "\n",
        "from read_data import HPatches, DataGeneratorDesc, hpatches_sequence_folder, DenoiseHPatches, tps\n",
        "from utils import generate_desc_csv, plot_denoise, plot_triplet\n",
        "\n",
        "# Plotting tools\n",
        "import matplotlib.pyplot as plt\n",
        "import seaborn as sns\n",
        "%matplotlib inline\n",
        "plt.style.use('seaborn-white')\n",
        "plt.rcParams[\"patch.force_edgecolor\"] = True\n",
        "\n",
        "# To download files\n",
        "from google.colab import files\n",
        "\n",
        "from sklearn.decomposition import PCA\n",
        "import pandas as pd"
      ],
      "execution_count": 0,
      "outputs": []
    },
    {
      "metadata": {
        "id": "FwFuggKiFh-Y",
        "colab_type": "code",
        "colab": {}
      },
      "cell_type": "code",
      "source": [
        "random.seed(1234)\n",
        "np.random.seed(1234)\n",
        "tf.set_random_seed(1234)\n",
        "\n",
        "hpatches_dir = './hpatches'\n",
        "splits_path = './splits.json'\n",
        "\n",
        "splits_json = json.load(open(splits_path, 'rb'))\n",
        "split = splits_json['a']\n",
        "\n",
        "train_fnames = split['train']\n",
        "test_fnames = split['test']\n",
        "\n",
        "seqs = glob.glob(hpatches_dir+'/*')\n",
        "seqs = [os.path.abspath(p) for p in seqs]   \n",
        "seqs_train = list(filter(lambda x: x.split('/')[-1] in train_fnames, seqs)) \n",
        "seqs_test = list(filter(lambda x: x.split('/')[-1] in split['test'], seqs)) \n"
      ],
      "execution_count": 0,
      "outputs": []
    },
    {
      "metadata": {
        "id": "Fz9DKXVfPvES",
        "colab_type": "text"
      },
      "cell_type": "markdown",
      "source": [
        "# 2. Define model\n",
        "In this section the baseline mode, generator data and compiler are defined."
      ]
    },
    {
      "metadata": {
        "id": "sZkAJV1bSyZi",
        "colab_type": "text"
      },
      "cell_type": "markdown",
      "source": [
        "The baseline mode consists of a L2Net trained with standard triplet loss."
      ]
    },
    {
      "metadata": {
        "id": "MNnSwg7p1pPY",
        "colab_type": "code",
        "colab": {}
      },
      "cell_type": "code",
      "source": [
        "def get_descriptor_model(shape):\n",
        "  \n",
        "  '''Architecture copies HardNet architecture'''\n",
        "  \n",
        "  init_weights = keras.initializers.he_normal()\n",
        "  \n",
        "  descriptor_model = Sequential()\n",
        "  descriptor_model.add(Conv2D(32, 3, padding='same', input_shape=shape, use_bias = True, kernel_initializer=init_weights))\n",
        "  descriptor_model.add(BatchNormalization(axis = -1))\n",
        "  descriptor_model.add(Activation('relu'))\n",
        "\n",
        "  descriptor_model.add(Conv2D(32, 3, padding='same', use_bias = True, kernel_initializer=init_weights))\n",
        "  descriptor_model.add(BatchNormalization(axis = -1))\n",
        "  descriptor_model.add(Activation('relu'))\n",
        "\n",
        "  descriptor_model.add(Conv2D(64, 3, padding='same', strides=2, use_bias = True, kernel_initializer=init_weights))\n",
        "  descriptor_model.add(BatchNormalization(axis = -1))\n",
        "  descriptor_model.add(Activation('relu'))\n",
        "\n",
        "  descriptor_model.add(Conv2D(64, 3, padding='same', use_bias = True, kernel_initializer=init_weights))\n",
        "  descriptor_model.add(BatchNormalization(axis = -1))\n",
        "  descriptor_model.add(Activation('relu'))\n",
        "\n",
        "  descriptor_model.add(Conv2D(128, 3, padding='same', strides=2,  use_bias = True, kernel_initializer=init_weights))\n",
        "  descriptor_model.add(BatchNormalization(axis = -1))\n",
        "  descriptor_model.add(Activation('relu'))\n",
        "\n",
        "  descriptor_model.add(Conv2D(128, 3, padding='same', use_bias = True, kernel_initializer=init_weights))\n",
        "  descriptor_model.add(BatchNormalization(axis = -1))\n",
        "  descriptor_model.add(Activation('relu'))\n",
        "  descriptor_model.add(Dropout(0.3))\n",
        "\n",
        "  descriptor_model.add(Conv2D(128, 8, padding='valid', use_bias = True, kernel_initializer=init_weights))\n",
        "  \n",
        "  # Final descriptor reshape\n",
        "  descriptor_model.add(Reshape((128,)))\n",
        "  \n",
        "  return descriptor_model"
      ],
      "execution_count": 0,
      "outputs": []
    },
    {
      "metadata": {
        "id": "-S6MDsUSmWZw",
        "colab_type": "code",
        "colab": {}
      },
      "cell_type": "code",
      "source": [
        "def triplet_loss(x):\n",
        "  \n",
        "  output_dim = 128\n",
        "  a, p, n = x\n",
        "  _alpha = 1.0\n",
        "  positive_distance = K.mean(K.square(a - p), axis=-1)\n",
        "  negative_distance = K.mean(K.square(a - n), axis=-1)\n",
        "  \n",
        "  return K.expand_dims(K.maximum(0.0, positive_distance - negative_distance + _alpha), axis = 1)"
      ],
      "execution_count": 0,
      "outputs": []
    },
    {
      "metadata": {
        "id": "0XgihFjgmBgn",
        "colab_type": "text"
      },
      "cell_type": "markdown",
      "source": [
        "Build the siamese network and choose optimiser."
      ]
    },
    {
      "metadata": {
        "id": "W1CmPPTmmOEa",
        "colab_type": "code",
        "colab": {}
      },
      "cell_type": "code",
      "source": [
        "optimiser_name = 'adam'"
      ],
      "execution_count": 0,
      "outputs": []
    },
    {
      "metadata": {
        "id": "DVmDZIRTHPDa",
        "colab_type": "code",
        "colab": {}
      },
      "cell_type": "code",
      "source": [
        "shape = (32, 32, 1)\n",
        "xa = Input(shape=shape, name='a')\n",
        "xp = Input(shape=shape, name='p')\n",
        "xn = Input(shape=shape, name='n')\n",
        "descriptor_model = get_descriptor_model(shape)\n",
        "ea = descriptor_model(xa)\n",
        "ep = descriptor_model(xp)\n",
        "en = descriptor_model(xn)\n",
        "\n",
        "loss = Lambda(triplet_loss)([ea, ep, en])\n",
        "\n",
        "descriptor_model_trip = Model(inputs=[xa, xp, xn], outputs=loss)\n",
        "\n",
        "descriptor_model_trip.compile(loss='mean_absolute_error', optimizer=optimiser_name, metrics = ['accuracy'])"
      ],
      "execution_count": 0,
      "outputs": []
    },
    {
      "metadata": {
        "id": "_X91J_WrYoTQ",
        "colab_type": "text"
      },
      "cell_type": "markdown",
      "source": [
        "Print the model summary."
      ]
    },
    {
      "metadata": {
        "id": "SUj6CXsIAgJ8",
        "colab_type": "code",
        "outputId": "42a03dd6-d282-47b3-f6c4-a3ceb010a90f",
        "colab": {
          "base_uri": "https://localhost:8080/",
          "height": 386
        }
      },
      "cell_type": "code",
      "source": [
        "descriptor_model_trip.summary()"
      ],
      "execution_count": 0,
      "outputs": [
        {
          "output_type": "stream",
          "text": [
            "__________________________________________________________________________________________________\n",
            "Layer (type)                    Output Shape         Param #     Connected to                     \n",
            "==================================================================================================\n",
            "a (InputLayer)                  (None, 32, 32, 1)    0                                            \n",
            "__________________________________________________________________________________________________\n",
            "p (InputLayer)                  (None, 32, 32, 1)    0                                            \n",
            "__________________________________________________________________________________________________\n",
            "n (InputLayer)                  (None, 32, 32, 1)    0                                            \n",
            "__________________________________________________________________________________________________\n",
            "sequential_4 (Sequential)       (None, 128)          1336928     a[0][0]                          \n",
            "                                                                 p[0][0]                          \n",
            "                                                                 n[0][0]                          \n",
            "__________________________________________________________________________________________________\n",
            "lambda_4 (Lambda)               (None, 1)            0           sequential_4[1][0]               \n",
            "                                                                 sequential_4[2][0]               \n",
            "                                                                 sequential_4[3][0]               \n",
            "==================================================================================================\n",
            "Total params: 1,336,928\n",
            "Trainable params: 1,336,032\n",
            "Non-trainable params: 896\n",
            "__________________________________________________________________________________________________\n"
          ],
          "name": "stdout"
        }
      ]
    },
    {
      "metadata": {
        "id": "VoRNHVIzloS8",
        "colab_type": "text"
      },
      "cell_type": "markdown",
      "source": [
        "Create the training and validation generators (with or without clean patches)."
      ]
    },
    {
      "metadata": {
        "id": "YIR1cH4fDwKj",
        "colab_type": "code",
        "outputId": "6938da32-ac97-4695-aeb1-aee54219957b",
        "colab": {
          "base_uri": "https://localhost:8080/",
          "height": 193
        }
      },
      "cell_type": "code",
      "source": [
        "### Descriptor loading and training\n",
        "# Loading images\n",
        "hPatches = HPatches(train_fnames=train_fnames, test_fnames=test_fnames,\n",
        "                    denoise_model=denoiser_model, use_clean=use_clean_bool)\n",
        "\n",
        "# Creating training generator\n",
        "training_generator = DataGeneratorDesc(*hPatches.read_image_file(hpatches_dir, train=1), num_triplets=100000)\n",
        "# Creating validation generator\n",
        "val_generator = DataGeneratorDesc(*hPatches.read_image_file(hpatches_dir, train=0), num_triplets=10000)\n"
      ],
      "execution_count": 0,
      "outputs": [
        {
          "output_type": "stream",
          "text": [
            "Using denoised patches\n",
            "100%|██████████| 116/116 [00:36<00:00,  3.16it/s]\n",
            "Denoising patches...\n",
            "100%|██████████| 15589/15589 [04:15<00:00, 60.92it/s]\n"
          ],
          "name": "stdout"
        },
        {
          "output_type": "stream",
          "text": [
            "100%|██████████| 100000/100000 [00:01<00:00, 71001.65it/s]\n"
          ],
          "name": "stderr"
        },
        {
          "output_type": "stream",
          "text": [
            "Using denoised patches\n",
            "100%|██████████| 116/116 [00:20<00:00,  5.67it/s]\n",
            "Denoising patches...\n",
            "100%|██████████| 9525/9525 [02:36<00:00, 60.99it/s]\n"
          ],
          "name": "stdout"
        },
        {
          "output_type": "stream",
          "text": [
            "100%|██████████| 10000/10000 [00:00<00:00, 25435.58it/s]\n"
          ],
          "name": "stderr"
        }
      ]
    },
    {
      "metadata": {
        "id": "3RQmOMU92csu",
        "colab_type": "code",
        "outputId": "8489f785-e07d-40d8-9344-af1df7edd9b1",
        "colab": {
          "base_uri": "https://localhost:8080/",
          "height": 183
        }
      },
      "cell_type": "code",
      "source": [
        "plot_triplet(training_generator)"
      ],
      "execution_count": 0,
      "outputs": [
        {
          "output_type": "display_data",
          "data": {
            "image/png": "[encoded data removed]",
            "text/plain": [
              "<Figure size 576x396 with 3 Axes>"
            ]
          },
          "metadata": {
            "tags": []
          }
        }
      ]
    },
    {
      "metadata": {
        "id": "y8VSlIH_nBVz",
        "colab_type": "text"
      },
      "cell_type": "markdown",
      "source": [
        "# 3. One epoch training"
      ]
    },
    {
      "metadata": {
        "id": "QPyc8as42WTQ",
        "colab_type": "code",
        "outputId": "c0dedded-9752-4e4b-af1d-4d8684b1a3c5",
        "colab": {
          "base_uri": "https://localhost:8080/",
          "height": 125
        }
      },
      "cell_type": "code",
      "source": [
        "descriptor_history = descriptor_model_trip.fit_generator(\n",
        "    generator=training_generator,\n",
        "    epochs=1,\n",
        "    verbose=1,\n",
        "    validation_data=val_generator)\n",
        "\n",
        "\n",
        "# Save model\n",
        "descriptor_model.save('bs_descriptor_1e.h5') \n",
        "# Uploads files to external hosting\n",
        "!curl -F \"file=@bs_descriptor_1e.h5\" https://file.io"
      ],
      "execution_count": 0,
      "outputs": [
        {
          "output_type": "stream",
          "text": [
            "Epoch 1/1\n",
            "1999/2000 [============================>.] - ETA: 0s - loss: 0.2167"
          ],
          "name": "stdout"
        },
        {
          "output_type": "stream",
          "text": [
            " 95%|█████████▌| 95050/100000 [00:03<00:00, 37034.79it/s]"
          ],
          "name": "stderr"
        },
        {
          "output_type": "stream",
          "text": [
            "\b\b\b\b\b\b\b\b\b\b\b\b\b\b\b\b\b\b\b\b\b\b\b\b\b\b\b\b\b\b\b\b\b\b\b\b\b\b\b\b\b\b\b\b\b\b\b\b\b\b\b\b\b\b\b\b\b\b\b\b\b\b\b\b\b\b\b\r2000/2000 [==============================] - 163s 81ms/step - loss: 0.2166 - val_loss: 0.2888\n"
          ],
          "name": "stdout"
        },
        {
          "output_type": "stream",
          "text": [
            "100%|██████████| 100000/100000 [00:03<00:00, 26164.52it/s]\n",
            "100%|██████████| 10000/10000 [00:00<00:00, 22997.55it/s]\n"
          ],
          "name": "stderr"
        },
        {
          "output_type": "stream",
          "text": [
            "{\"success\":true,\"key\":\"uXi7bl\",\"link\":\"https://file.io/uXi7bl\",\"expiry\":\"14 days\"}"
          ],
          "name": "stdout"
        }
      ]
    },
    {
      "metadata": {
        "id": "ag32cVgUpSLJ",
        "colab_type": "text"
      },
      "cell_type": "markdown",
      "source": [
        "# 4. Full training"
      ]
    },
    {
      "metadata": {
        "id": "T_zwZXN5plnZ",
        "colab_type": "text"
      },
      "cell_type": "markdown",
      "source": [
        "Train until 20 epochs are reached."
      ]
    },
    {
      "metadata": {
        "id": "A7wZEk2sBzRK",
        "colab_type": "code",
        "colab": {}
      },
      "cell_type": "code",
      "source": [
        "descriptor_history = descriptor_model_trip.fit_generator(generator = training_generator,\n",
        "                                                         epochs = 20,\n",
        "                                                         verbose = 1,\n",
        "                                                         validation_data = val_generator)"
      ],
      "execution_count": 0,
      "outputs": []
    },
    {
      "metadata": {
        "id": "9Kfi68rNBPcD",
        "colab_type": "code",
        "outputId": "5caa4cb6-19bd-4767-d72f-8612df1dc2f1",
        "colab": {
          "base_uri": "https://localhost:8080/",
          "height": 394
        }
      },
      "cell_type": "code",
      "source": [
        "import matplotlib.pyplot as plt\n",
        "fig, axes = plt.subplots(1,2)\n",
        "axes[0].plot(descriptor_history.history['acc'])\n",
        "axes[0].plot(descriptor_history.history['val_acc'])\n",
        "axes[0].set_title('Model Accuracy')\n",
        "axes[0].set_ylabel('Accuracy')\n",
        "axes[0].set_xlabel('Epoch')\n",
        "\n",
        "fig.subplots_adjust(hspace=0.5)\n",
        "\n",
        "axes[1].plot(descriptor_history.history['loss'])\n",
        "axes[1].plot(descriptor_history.history['val_loss'])\n",
        "axes[1].set_title('Model Loss')\n",
        "axes[1].set_ylabel('Cross Entropy Loss')\n",
        "axes[1].set_xlabel('Epoch')"
      ],
      "execution_count": 0,
      "outputs": [
        {
          "output_type": "execute_result",
          "data": {
            "text/plain": [
              "Text(0.5,0,'Epoch')"
            ]
          },
          "metadata": {
            "tags": []
          },
          "execution_count": 55
        },
        {
          "output_type": "display_data",
          "data": {
            "image/png": "[encoded data removed]",
            "text/plain": [
              "<Figure size 576x396 with 2 Axes>"
            ]
          },
          "metadata": {
            "tags": []
          }
        }
      ]
    },
    {
      "metadata": {
        "id": "EPsqK22Vp424",
        "colab_type": "text"
      },
      "cell_type": "markdown",
      "source": [
        "Save fully trained model."
      ]
    },
    {
      "metadata": {
        "id": "f1bn0IGWp95y",
        "colab_type": "code",
        "colab": {}
      },
      "cell_type": "code",
      "source": [
        "# Save model\n",
        "descriptor_model.save('bs_descriptor_20e.h5') \n",
        "# Uploads files to external hosting\n",
        "!curl -F \"file=@bs_descriptor_20e.h5\" https://file.io"
      ],
      "execution_count": 0,
      "outputs": []
    }
  ]
}
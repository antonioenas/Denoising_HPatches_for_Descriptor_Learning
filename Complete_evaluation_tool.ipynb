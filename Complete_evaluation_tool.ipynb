{
  "nbformat": 4,
  "nbformat_minor": 0,
  "metadata": {
    "colab": {
      "name": "Complete_evaluation_tool.ipynb",
      "version": "0.3.2",
      "provenance": [],
      "toc_visible": true,
      "include_colab_link": true
    },
    "kernelspec": {
      "name": "python2",
      "display_name": "Python 2"
    }
  },
  "cells": [
    {
      "cell_type": "markdown",
      "metadata": {
        "id": "view-in-github",
        "colab_type": "text"
      },
      "source": [
        "<a href=\"https://colab.research.google.com/github/antonioenas/Denoising_HPatches_for_Descriptor_Learning/blob/master/Complete_evaluation_tool.ipynb\" target=\"_parent\"><img src=\"https://colab.research.google.com/assets/colab-badge.svg\" alt=\"Open In Colab\"/></a>"
      ]
    },
    {
      "metadata": {
        "id": "ZInL8SHokoU3",
        "colab_type": "text"
      },
      "cell_type": "markdown",
      "source": [
        "# Introduction - Deep learning coursework, Imperial College London\n",
        "**Antonio Enas, 01070859, AE1115**\n",
        "\n",
        "\n",
        "---\n",
        "\n",
        "In this notebook, the user can load trained denoiser and descriptor models to evaluate their performance.\n",
        "\n",
        "For qualitative evaluation, we propose the *joint hex plot* of the pairwise distances (anchor to positive and anchor to negative).\n",
        "Furthermore, the validation set can be plotted in 2 dimensions with the respetive labels.\n",
        "\n",
        "Structure:\n",
        "1. Environment set up\n",
        "2. Load pre trained models\n",
        "3. Qualitative evaluation\n",
        "4. Quantitative evaluation"
      ]
    },
    {
      "metadata": {
        "id": "6_QUBl_OC0Hv",
        "colab_type": "text"
      },
      "cell_type": "markdown",
      "source": [
        "# 1. Environment set up\n",
        "This section ensures all libraries and dataset are correctly imported.\n",
        "\n",
        "If data is already mounted select:\n",
        "              `import_data = False`"
      ]
    },
    {
      "metadata": {
        "id": "-nm263h1Ae_j",
        "colab_type": "code",
        "colab": {}
      },
      "cell_type": "code",
      "source": [
        "import_data = True"
      ],
      "execution_count": 0,
      "outputs": []
    },
    {
      "metadata": {
        "id": "BUgnMDQT1C67",
        "colab_type": "text"
      },
      "cell_type": "markdown",
      "source": [
        "### Optional GPU check"
      ]
    },
    {
      "metadata": {
        "id": "ZZG4BqkENEyd",
        "colab_type": "code",
        "colab": {}
      },
      "cell_type": "code",
      "source": [
        "# Taken from\n",
        "# https://stackoverflow.com/questions/48750199/google-colaboratory-misleading-information-about-its-gpu-only-5-ram-available\n",
        "# memory footprint support libraries/code\n",
        "!ln -sf /opt/bin/nvidia-smi /usr/bin/nvidia-smi\n",
        "!pip install gputil\n",
        "!pip install psutil\n",
        "!pip install humanize\n",
        "import psutil\n",
        "import humanize\n",
        "import os\n",
        "import GPUtil as GPU\n",
        "GPUs = GPU.getGPUs()\n",
        "# Colab only provides one GPU and it is not always guaranteed\n",
        "gpu = GPUs[0]\n",
        "def printm():\n",
        "  process = psutil.Process(os.getpid())\n",
        "  print(\"RAM Free: \" + humanize.naturalsize( psutil.virtual_memory().available ), \" | Proc size: \" + humanize.naturalsize( process.memory_info().rss))\n",
        "  print(\"GPU RAM Free: {0:.0f}MB | Used: {1:.0f}MB | Util {2:3.0f}% | Total {3:.0f}MB\".format(gpu.memoryFree, gpu.memoryUsed, gpu.memoryUtil*100, gpu.memoryTotal))\n",
        "  printm()"
      ],
      "execution_count": 0,
      "outputs": []
    },
    {
      "metadata": {
        "id": "_rUCd3Te1KMl",
        "colab_type": "text"
      },
      "cell_type": "markdown",
      "source": [
        "### Cloning the repository and downloading the data"
      ]
    },
    {
      "metadata": {
        "id": "ytiLXn8wmoQP",
        "colab_type": "code",
        "outputId": "96a1fb72-d206-42f2-9ef4-49b42c061d8a",
        "colab": {
          "base_uri": "https://localhost:8080/",
          "height": 665
        }
      },
      "cell_type": "code",
      "source": [
        "if import_data == False:\n",
        "  # Change directory\n",
        "  %cd /content/keras_triplet_descriptor\n",
        "else:\n",
        "  # Clone repo\n",
        "  !git clone https://github.com/MatchLab-Imperial/keras_triplet_descriptor\n",
        "  %cd /content/keras_triplet_descriptor\n",
        "  # Download data\n",
        "  !wget -O hpatches_data.zip https://imperialcollegelondon.box.com/shared/static/ah40eq7cxpwq4a6l4f62efzdyt8rm3ha.zip\n",
        "  # Extract data\n",
        "  !unzip -q ./hpatches_data.zip\n",
        "  !rm ./hpatches_data.zip\n"
      ],
      "execution_count": 0,
      "outputs": [
        {
          "output_type": "stream",
          "text": [
            "Cloning into 'keras_triplet_descriptor'...\n",
            "remote: Enumerating objects: 3, done.\u001b[K\n",
            "remote: Counting objects: 100% (3/3), done.\u001b[K\n",
            "remote: Compressing objects: 100% (3/3), done.\u001b[K\n",
            "remote: Total 181 (delta 0), reused 1 (delta 0), pack-reused 178\u001b[K\n",
            "Receiving objects: 100% (181/181), 149.87 MiB | 22.47 MiB/s, done.\n",
            "Resolving deltas: 100% (65/65), done.\n",
            "Checking out files: 100% (69/69), done.\n",
            "/content/keras_triplet_descriptor\n",
            "--2019-03-26 12:29:04--  https://imperialcollegelondon.box.com/shared/static/ah40eq7cxpwq4a6l4f62efzdyt8rm3ha.zip\n",
            "Resolving imperialcollegelondon.box.com (imperialcollegelondon.box.com)... 107.152.27.197\n",
            "Connecting to imperialcollegelondon.box.com (imperialcollegelondon.box.com)|107.152.27.197|:443... connected.\n",
            "HTTP request sent, awaiting response... 301 Moved Permanently\n",
            "Location: /public/static/ah40eq7cxpwq4a6l4f62efzdyt8rm3ha.zip [following]\n",
            "--2019-03-26 12:29:04--  https://imperialcollegelondon.box.com/public/static/ah40eq7cxpwq4a6l4f62efzdyt8rm3ha.zip\n",
            "Reusing existing connection to imperialcollegelondon.box.com:443.\n",
            "HTTP request sent, awaiting response... 301 Moved Permanently\n",
            "Location: https://imperialcollegelondon.app.box.com/public/static/ah40eq7cxpwq4a6l4f62efzdyt8rm3ha.zip [following]\n",
            "--2019-03-26 12:29:04--  https://imperialcollegelondon.app.box.com/public/static/ah40eq7cxpwq4a6l4f62efzdyt8rm3ha.zip\n",
            "Resolving imperialcollegelondon.app.box.com (imperialcollegelondon.app.box.com)... 107.152.27.199, 107.152.26.199\n",
            "Connecting to imperialcollegelondon.app.box.com (imperialcollegelondon.app.box.com)|107.152.27.199|:443... connected.\n",
            "HTTP request sent, awaiting response... 302 Found\n",
            "Location: https://public.boxcloud.com/d/1/b1!BUw-Es-nL7uRpNSgAInUeOFl0NIkG1OVVv7EFLuhKgxJW7fyCKsR6q3H6RJqCwi727vRKVkjnL3sqFQo1HSEwwWrmrMYf6q-PR0_PKF5m7camXbw3hL3VUksZVPCU1l9g-sLOAB87zhEOB2l3uGdm_iBTmGv2WYJrhcSpG3AWhQNKPfhLFak5RsHcgo0w6Q28DHjL0ci24QZbOUOlM9HEGngA2EhBziKPQssl0nMInMj2o4KEiBoEZDLoDRHlgkfPckzenlaU2J2lXQg3tZPU-8v_VmTr-lSYIx-YUxcOo3ZlubofOMoM79xzaI-P35iOv_3BndDX8ucC8iYreIHwXc8xEpWvmvFk8Ty7_YfAm9iQu5eIm9_QxWiM8IzHp51ZpMwE_b7jr7ipjbhCGtBFCGeIvHLH6Zgunr1SSqHQsOiUn1aWkiuwnnJJK3IFF-isgRaAqoH5NHIZu8NMt_miufnF2DlfZoKkSiVMijVF6A9oWLQt1UQO984S8KoVNS1ZR08D3GNFW3nvx7sw2wnT_JsiWGJTbuQXIOKyMYgJJZMIYkUDnTzA_6UwPFsyAb8zn1UDvNcO7yJHiNi0cis7CZt4w8ZXTBkUty2riDMZj0mHtPMnyElx8Xs32ql0am1J7oUln5Lfj-j72GFyQEiuFnToL7j0xbSU0nBHKtZIe_0scdliDGd4vIR6DBwDEeN2amHHPCewow4PY45B-Un-wvCquDZfMPFCEkaEhrsx0_chLHdkOvDhuPghlv_3hzFVoPDobNSQLzG8HpR8mEjn0sk8XVi2EFpJsCLAUZ1VesISfxc6kuqq6kdfVICqUUlwSthGwcKsytcT2buYmLJ0eiHbg90_cxt8moVfBBNc1JFCTBDeAvhNS3axKo_ki4hx9pZX5W-ZR4FhDWf_enigTNlUGQmJ5YjqVcmN6jJT0q8aR0IXidLm_V3WmLRcSQOMx3TPGUYLOneRY_5Bl23YHlcnGU4W0O6DWWCf_1AiBc3gL5Tam9h1PplDJlqTLvK4vOB5rIhG60mguYufFlnRih-ntX8bNwkR6XCMEr3Wu0_0af0aOKD8BXHOxixDO-_A65EJn67zyDlgiK3STNxfG7rmueoB9F5JvRo-eZfg8z9pmJsCqyMUAC_Gh1korFUljKzMvdFnxsAW4kgwAZMl_rIBAt9dCnHWKCEePV2jQcLTMJiV4y4k_8cMFKSLRN3-kH7bEm4n6mCDjsT3uX9B4SLdmLWSSr8YW6-0L78csXOhQXOE1w2e1wJMKO9ydQYaCaobHrUephDtSLBUxTAlVyXSDzoVP4EnAZo51W1ACzq90n-gfXjKi24QzNtDDSMa3bC4hrQiFYPmtGzFGk2ofiZQTrOOy5exjnqfWsYzPKQ_j2GtClMgzyUOuXuRDTaiacF32YqsTla2HgA-8arH_DyqzpR9eOdeSmvmikHRyQ28sqPrXDlfeo./download [following]\n",
            "--2019-03-26 12:29:05--  https://public.boxcloud.com/d/1/b1!BUw-Es-nL7uRpNSgAInUeOFl0NIkG1OVVv7EFLuhKgxJW7fyCKsR6q3H6RJqCwi727vRKVkjnL3sqFQo1HSEwwWrmrMYf6q-PR0_PKF5m7camXbw3hL3VUksZVPCU1l9g-sLOAB87zhEOB2l3uGdm_iBTmGv2WYJrhcSpG3AWhQNKPfhLFak5RsHcgo0w6Q28DHjL0ci24QZbOUOlM9HEGngA2EhBziKPQssl0nMInMj2o4KEiBoEZDLoDRHlgkfPckzenlaU2J2lXQg3tZPU-8v_VmTr-lSYIx-YUxcOo3ZlubofOMoM79xzaI-P35iOv_3BndDX8ucC8iYreIHwXc8xEpWvmvFk8Ty7_YfAm9iQu5eIm9_QxWiM8IzHp51ZpMwE_b7jr7ipjbhCGtBFCGeIvHLH6Zgunr1SSqHQsOiUn1aWkiuwnnJJK3IFF-isgRaAqoH5NHIZu8NMt_miufnF2DlfZoKkSiVMijVF6A9oWLQt1UQO984S8KoVNS1ZR08D3GNFW3nvx7sw2wnT_JsiWGJTbuQXIOKyMYgJJZMIYkUDnTzA_6UwPFsyAb8zn1UDvNcO7yJHiNi0cis7CZt4w8ZXTBkUty2riDMZj0mHtPMnyElx8Xs32ql0am1J7oUln5Lfj-j72GFyQEiuFnToL7j0xbSU0nBHKtZIe_0scdliDGd4vIR6DBwDEeN2amHHPCewow4PY45B-Un-wvCquDZfMPFCEkaEhrsx0_chLHdkOvDhuPghlv_3hzFVoPDobNSQLzG8HpR8mEjn0sk8XVi2EFpJsCLAUZ1VesISfxc6kuqq6kdfVICqUUlwSthGwcKsytcT2buYmLJ0eiHbg90_cxt8moVfBBNc1JFCTBDeAvhNS3axKo_ki4hx9pZX5W-ZR4FhDWf_enigTNlUGQmJ5YjqVcmN6jJT0q8aR0IXidLm_V3WmLRcSQOMx3TPGUYLOneRY_5Bl23YHlcnGU4W0O6DWWCf_1AiBc3gL5Tam9h1PplDJlqTLvK4vOB5rIhG60mguYufFlnRih-ntX8bNwkR6XCMEr3Wu0_0af0aOKD8BXHOxixDO-_A65EJn67zyDlgiK3STNxfG7rmueoB9F5JvRo-eZfg8z9pmJsCqyMUAC_Gh1korFUljKzMvdFnxsAW4kgwAZMl_rIBAt9dCnHWKCEePV2jQcLTMJiV4y4k_8cMFKSLRN3-kH7bEm4n6mCDjsT3uX9B4SLdmLWSSr8YW6-0L78csXOhQXOE1w2e1wJMKO9ydQYaCaobHrUephDtSLBUxTAlVyXSDzoVP4EnAZo51W1ACzq90n-gfXjKi24QzNtDDSMa3bC4hrQiFYPmtGzFGk2ofiZQTrOOy5exjnqfWsYzPKQ_j2GtClMgzyUOuXuRDTaiacF32YqsTla2HgA-8arH_DyqzpR9eOdeSmvmikHRyQ28sqPrXDlfeo./download\n",
            "Resolving public.boxcloud.com (public.boxcloud.com)... 107.152.26.200\n",
            "Connecting to public.boxcloud.com (public.boxcloud.com)|107.152.26.200|:443... connected.\n",
            "HTTP request sent, awaiting response... 200 OK\n",
            "Length: 4088106554 (3.8G) [application/zip]\n",
            "Saving to: ‘hpatches_data.zip’\n",
            "\n",
            "hpatches_data.zip   100%[===================>]   3.81G  22.1MB/s    in 2m 54s  \n",
            "\n",
            "2019-03-26 12:32:00 (22.4 MB/s) - ‘hpatches_data.zip’ saved [4088106554/4088106554]\n",
            "\n"
          ],
          "name": "stdout"
        }
      ]
    },
    {
      "metadata": {
        "id": "Rjyr96hR_4wS",
        "colab_type": "text"
      },
      "cell_type": "markdown",
      "source": [
        "### Importing Necessary Modules"
      ]
    },
    {
      "metadata": {
        "id": "o0KYfe-at9KN",
        "colab_type": "code",
        "colab": {}
      },
      "cell_type": "code",
      "source": [
        "!pip install -U seaborn\n",
        "\n",
        "import sys\n",
        "import json\n",
        "import os\n",
        "import glob\n",
        "import time\n",
        "import tensorflow as tf\n",
        "import numpy as np\n",
        "import cv2\n",
        "import random\n",
        "\n",
        "import keras\n",
        "from keras import backend as K\n",
        "from keras.models import Sequential, Model\n",
        "from keras.layers import Dense, Dropout, Activation, Flatten, Input, Lambda, Reshape\n",
        "from keras.layers import Conv2D, MaxPooling2D, BatchNormalization \n",
        "from keras.layers import Input, UpSampling2D, concatenate  \n",
        "\n",
        "from read_data import HPatches, DataGeneratorDesc, hpatches_sequence_folder, DenoiseHPatches, tps\n",
        "from utils import generate_desc_csv, plot_denoise, plot_triplet\n",
        "\n",
        "# Plotting tools\n",
        "import matplotlib.pyplot as plt\n",
        "import seaborn as sns\n",
        "%matplotlib inline\n",
        "plt.style.use('seaborn-white')\n",
        "plt.rcParams[\"patch.force_edgecolor\"] = True\n",
        "\n",
        "# To download files\n",
        "from google.colab import files\n",
        "\n",
        "from sklearn.decomposition import PCA\n",
        "import pandas as pd"
      ],
      "execution_count": 0,
      "outputs": []
    },
    {
      "metadata": {
        "id": "FwFuggKiFh-Y",
        "colab_type": "code",
        "colab": {}
      },
      "cell_type": "code",
      "source": [
        "random.seed(1234)\n",
        "np.random.seed(1234)\n",
        "tf.set_random_seed(1234)\n",
        "\n",
        "hpatches_dir = './hpatches'\n",
        "splits_path = './splits.json'\n",
        "\n",
        "splits_json = json.load(open(splits_path, 'rb'))\n",
        "split = splits_json['a']\n",
        "\n",
        "train_fnames = split['train']\n",
        "test_fnames = split['test']\n",
        "\n",
        "seqs = glob.glob(hpatches_dir+'/*')\n",
        "seqs = [os.path.abspath(p) for p in seqs]   \n",
        "seqs_train = list(filter(lambda x: x.split('/')[-1] in train_fnames, seqs)) \n",
        "seqs_test = list(filter(lambda x: x.split('/')[-1] in split['test'], seqs)) \n"
      ],
      "execution_count": 0,
      "outputs": []
    },
    {
      "metadata": {
        "id": "ctXP9CO1lnHp",
        "colab_type": "text"
      },
      "cell_type": "markdown",
      "source": [
        "# 2. Upload and load models to evaluate\n",
        "Parameters needed:\n",
        "\n",
        "*    `use_clean_bool` to evaluate using noisy or clean patches\n",
        "*   `denoiser_to_eval`\n",
        "*   `descripto_to_eval`"
      ]
    },
    {
      "metadata": {
        "id": "kyFqzYLXvG1K",
        "colab_type": "code",
        "colab": {}
      },
      "cell_type": "code",
      "source": [
        "use_clean_bool = True"
      ],
      "execution_count": 0,
      "outputs": []
    },
    {
      "metadata": {
        "id": "DesvJyV9vUef",
        "colab_type": "code",
        "colab": {}
      },
      "cell_type": "code",
      "source": [
        "denoiser_to_eval = None"
      ],
      "execution_count": 0,
      "outputs": []
    },
    {
      "metadata": {
        "id": "4qRCOxy9vWoV",
        "colab_type": "code",
        "colab": {}
      },
      "cell_type": "code",
      "source": [
        "descriptor_notrip_eval = keras.models.load_model('./bs_c_descriptor_e20.h5')\n",
        "descriptor_trip_eval = keras.models.load_model('./bs_c_trip_descriptor_e20.h5')"
      ],
      "execution_count": 0,
      "outputs": []
    },
    {
      "metadata": {
        "id": "7n6F1sKNv8ds",
        "colab_type": "text"
      },
      "cell_type": "markdown",
      "source": [
        "# 3. Qualitative evaluation\n",
        "In this section we visualise the individual pair distances within each triplet onto the loss surface and the respective  loss distribiution."
      ]
    },
    {
      "metadata": {
        "id": "GkVMpBF2qLAV",
        "colab_type": "text"
      },
      "cell_type": "markdown",
      "source": [
        "### Generate the evaluation triplets for both qualitative and quantitative evaluation"
      ]
    },
    {
      "metadata": {
        "id": "3T7W2tMCFuX-",
        "colab_type": "code",
        "colab": {}
      },
      "cell_type": "code",
      "source": [
        "hPatches = HPatches(train_fnames=train_fnames, denoise_model=denoiser_to_eval, test_fnames=test_fnames, use_clean=use_clean_bool)"
      ],
      "execution_count": 0,
      "outputs": []
    },
    {
      "metadata": {
        "id": "kPRgHgywkBZ0",
        "colab_type": "code",
        "outputId": "daeaf08c-598b-45fb-9cad-3f6a8dd6f623",
        "colab": {
          "base_uri": "https://localhost:8080/",
          "height": 70
        }
      },
      "cell_type": "code",
      "source": [
        "# Specify how many triplets to consider\n",
        "n_triplets = 100000\n",
        "\n",
        "random.seed(1234)\n",
        "np.random.seed(1234)\n",
        "tf.set_random_seed(1234)\n",
        "# Generate a single large batch of triplets in the training set\n",
        "#eval_test_gen = DataGeneratorDesc(*hPatches.read_image_file(hpatches_dir,train=0), batch_size=n_triplets, num_triplets=n_triplets)\n",
        "eval_test_gen = DataGeneratorDesc(*hPatches.read_image_file(hpatches_dir,train=0), batch_size=50, num_triplets=10000)\n"
      ],
      "execution_count": 0,
      "outputs": [
        {
          "output_type": "stream",
          "text": [
            "Using clean patches\n",
            "100%|██████████| 116/116 [00:20<00:00,  3.27it/s]\n"
          ],
          "name": "stdout"
        },
        {
          "output_type": "stream",
          "text": [
            "100%|██████████| 10000/10000 [00:00<00:00, 60301.20it/s]\n"
          ],
          "name": "stderr"
        }
      ]
    },
    {
      "metadata": {
        "id": "jx4OIIecHoP3",
        "colab_type": "code",
        "colab": {}
      },
      "cell_type": "code",
      "source": [
        "# Lossless triplet model to generate triplets for plots\n",
        "shape = (32,32,1)\n",
        "xa = Input(shape=shape, name='a')\n",
        "xp = Input(shape=shape, name='p')\n",
        "xn = Input(shape=shape, name='n')\n",
        "\n",
        "ea = descriptor_notrip_eval(xa)\n",
        "ep = descriptor_notrip_eval(xp)\n",
        "en = descriptor_notrip_eval(xn)\n",
        "\n",
        "eval_triplet = Model(inputs=[xa, xp, xn], outputs=[ea, ep, en])"
      ],
      "execution_count": 0,
      "outputs": []
    },
    {
      "metadata": {
        "id": "wz0Du1ruq9yr",
        "colab_type": "text"
      },
      "cell_type": "markdown",
      "source": [
        "## Calculate the distance between positive and negative descriptor pairs"
      ]
    },
    {
      "metadata": {
        "id": "bgsGFKTAukkI",
        "colab_type": "text"
      },
      "cell_type": "markdown",
      "source": [
        "Calculate the euclidean distance between AP, AN pairs. Then evaluate how the distance pairs are distributed onto the loss surface."
      ]
    },
    {
      "metadata": {
        "id": "laY_KMlwnGul",
        "colab_type": "code",
        "colab": {}
      },
      "cell_type": "code",
      "source": [
        "# Extract the triplets packed in the generator\n",
        "#a = next(iter(eval_test_gen))\n",
        "#embedding_p = descriptor_to_eval.predict(a[0]['p'])\n",
        "#embedding_n = descriptor_to_eval.predict(a[0]['n'])"
      ],
      "execution_count": 0,
      "outputs": []
    },
    {
      "metadata": {
        "id": "L6b6INLFF7ss",
        "colab_type": "code",
        "outputId": "1e428fe2-94b3-4b5c-b261-491416ce2b2d",
        "colab": {
          "base_uri": "https://localhost:8080/",
          "height": 34
        }
      },
      "cell_type": "code",
      "source": [
        "# Generate the descriptor vectors for each anchor, positive and negative image\n",
        "embedding_a, embedding_p, embedding_n = eval_triplet.predict_generator(eval_test_gen)\n",
        "\n",
        "# Measure distances between triplets\n",
        "positive_distance = np.mean((embedding_a-embedding_p)**2 , axis=-1)\n",
        "negative_distance = np.mean((embedding_a-embedding_n)**2 , axis=-1)"
      ],
      "execution_count": 0,
      "outputs": [
        {
          "output_type": "stream",
          "text": [
            "100%|██████████| 10000/10000 [00:00<00:00, 61045.97it/s]\n"
          ],
          "name": "stderr"
        }
      ]
    },
    {
      "metadata": {
        "id": "wIj-oDxeXIEi",
        "colab_type": "code",
        "colab": {}
      },
      "cell_type": "code",
      "source": [
        "# Extract labels of each descriptor\n",
        "\n",
        "a_labels = np.zeros((np.shape(eval_test_gen.triplets)[0],))\n",
        "p_labels = np.zeros((np.shape(eval_test_gen.triplets)[0],))\n",
        "n_labels = np.zeros((np.shape(eval_test_gen.triplets)[0],))\n",
        "\n",
        "i = 0\n",
        "for idx in eval_test_gen.triplets:\n",
        "  a_labels[i] = eval_test_gen.labels[idx[0]]\n",
        "  p_labels[i] = eval_test_gen.labels[idx[1]]\n",
        "  n_labels[i] = eval_test_gen.labels[idx[2]]\n",
        "  i += 1"
      ],
      "execution_count": 0,
      "outputs": []
    },
    {
      "metadata": {
        "id": "zZI9U96maYO8",
        "colab_type": "code",
        "colab": {}
      },
      "cell_type": "code",
      "source": [
        "vector_map = np.array([embedding_a, embedding_p, embedding_n ]).reshape(3*np.shape(eval_test_gen.triplets)[0],128)\n",
        "labels_map = np.array([a_labels, p_labels, n_labels ]).reshape(3*np.shape(eval_test_gen.triplets)[0],)"
      ],
      "execution_count": 0,
      "outputs": []
    },
    {
      "metadata": {
        "id": "P_oroJcKuhag",
        "colab_type": "code",
        "colab": {}
      },
      "cell_type": "code",
      "source": [
        "# Create dataframe to contain the results\n",
        "df = pd.DataFrame(vector_map)\n",
        "df['label'] = labels_map"
      ],
      "execution_count": 0,
      "outputs": []
    },
    {
      "metadata": {
        "id": "cdG28Lczu0Lo",
        "colab_type": "code",
        "colab": {}
      },
      "cell_type": "code",
      "source": [
        "df"
      ],
      "execution_count": 0,
      "outputs": []
    },
    {
      "metadata": {
        "id": "RnN5yfP3YLSc",
        "colab_type": "code",
        "outputId": "4c71f5ee-a2d8-4751-bb49-36fa7f3a1c96",
        "colab": {
          "base_uri": "https://localhost:8080/",
          "height": 87
        }
      },
      "cell_type": "code",
      "source": [
        "# Visualisethrough PCA\n",
        "\n",
        "\n",
        "\n",
        "pca = PCA(n_components=20)\n",
        "pca_result = pca.fit_transform(vector_map)\n",
        "\n",
        "\n",
        "print 'Explained variation per principal component: {}'.format(pca.explained_variance_ratio_)"
      ],
      "execution_count": 0,
      "outputs": [
        {
          "output_type": "stream",
          "text": [
            "Explained variation per principal component: [0.16084184 0.11599272 0.09349535 0.07275984 0.06397235 0.05263386\n",
            " 0.04428929 0.04288212 0.04141132 0.03650151 0.02843161 0.02745365\n",
            " 0.02556002 0.02060966 0.01929176 0.01862704 0.01688718 0.01426496\n",
            " 0.01398589 0.01132978]\n"
          ],
          "name": "stdout"
        }
      ]
    },
    {
      "metadata": {
        "id": "b-L-MNh0drVs",
        "colab_type": "code",
        "colab": {}
      },
      "cell_type": "code",
      "source": [
        "# Load results in Pandas to ease visualisation\n",
        "df = pd.DataFrame(pca_result)\n",
        "df['label'] = labels_map\n"
      ],
      "execution_count": 0,
      "outputs": []
    },
    {
      "metadata": {
        "id": "0agYjy6tvdHD",
        "colab_type": "code",
        "colab": {}
      },
      "cell_type": "code",
      "source": [
        "df.sort_values(by= 'label')\n",
        "\n",
        "df['count'] = \\\n",
        "df.groupby('label')['label']\\\n",
        "  .transform(pd.Series.value_counts)\n",
        "df.sort_values('count', inplace=True, ascending=False)\n",
        "df.drop('count', axis=1, inplace = True)"
      ],
      "execution_count": 0,
      "outputs": []
    },
    {
      "metadata": {
        "id": "mo21qVJ0n_k_",
        "colab_type": "code",
        "colab": {}
      },
      "cell_type": "code",
      "source": [
        "select_few_labels = np.unique()"
      ],
      "execution_count": 0,
      "outputs": []
    },
    {
      "metadata": {
        "id": "N0X1D9lVoZzq",
        "colab_type": "code",
        "colab": {}
      },
      "cell_type": "code",
      "source": [
        "unique, counts = np.unique(df['label'], return_counts=True)\n"
      ],
      "execution_count": 0,
      "outputs": []
    },
    {
      "metadata": {
        "id": "cQ0HRXmeoewl",
        "colab_type": "code",
        "outputId": "fa8eeb6e-59ae-415a-d687-67fc029bea1e",
        "colab": {
          "base_uri": "https://localhost:8080/",
          "height": 34
        }
      },
      "cell_type": "code",
      "source": [
        "counts"
      ],
      "execution_count": 0,
      "outputs": [
        {
          "output_type": "execute_result",
          "data": {
            "text/plain": [
              "array([1, 1, 1, ..., 2, 1, 1])"
            ]
          },
          "metadata": {
            "tags": []
          },
          "execution_count": 23
        }
      ]
    },
    {
      "metadata": {
        "id": "AvLpU_56ohdA",
        "colab_type": "code",
        "outputId": "2b909385-5e34-4bb4-c650-59f254b7483a",
        "colab": {
          "base_uri": "https://localhost:8080/",
          "height": 52
        }
      },
      "cell_type": "code",
      "source": [
        "unique"
      ],
      "execution_count": 0,
      "outputs": [
        {
          "output_type": "execute_result",
          "data": {
            "text/plain": [
              "array([1.0000e+00, 8.0000e+00, 1.0000e+01, ..., 5.9524e+04, 5.9528e+04,\n",
              "       5.9530e+04])"
            ]
          },
          "metadata": {
            "tags": []
          },
          "execution_count": 24
        }
      ]
    },
    {
      "metadata": {
        "id": "fGWidU2_kX_4",
        "colab_type": "code",
        "outputId": "106afa7c-ab9f-4b67-a32d-10ddfbcd70ac",
        "colab": {
          "base_uri": "https://localhost:8080/",
          "height": 935
        }
      },
      "cell_type": "code",
      "source": [
        "df[:30]"
      ],
      "execution_count": 0,
      "outputs": [
        {
          "output_type": "execute_result",
          "data": {
            "text/html": [
              "<div>\n",
              "<style scoped>\n",
              "    .dataframe tbody tr th:only-of-type {\n",
              "        vertical-align: middle;\n",
              "    }\n",
              "\n",
              "    .dataframe tbody tr th {\n",
              "        vertical-align: top;\n",
              "    }\n",
              "\n",
              "    .dataframe thead th {\n",
              "        text-align: right;\n",
              "    }\n",
              "</style>\n",
              "<table border=\"1\" class=\"dataframe\">\n",
              "  <thead>\n",
              "    <tr style=\"text-align: right;\">\n",
              "      <th></th>\n",
              "      <th>PC1</th>\n",
              "      <th>PC2</th>\n",
              "      <th>PC3</th>\n",
              "      <th>label</th>\n",
              "    </tr>\n",
              "  </thead>\n",
              "  <tbody>\n",
              "    <tr>\n",
              "      <th>13184</th>\n",
              "      <td>10.760157</td>\n",
              "      <td>2.861496</td>\n",
              "      <td>8.296907</td>\n",
              "      <td>56700.0</td>\n",
              "    </tr>\n",
              "    <tr>\n",
              "      <th>6155</th>\n",
              "      <td>1.390484</td>\n",
              "      <td>0.852753</td>\n",
              "      <td>5.830827</td>\n",
              "      <td>48884.0</td>\n",
              "    </tr>\n",
              "    <tr>\n",
              "      <th>10537</th>\n",
              "      <td>-9.006827</td>\n",
              "      <td>-4.299463</td>\n",
              "      <td>-2.905126</td>\n",
              "      <td>48884.0</td>\n",
              "    </tr>\n",
              "    <tr>\n",
              "      <th>16155</th>\n",
              "      <td>1.000165</td>\n",
              "      <td>0.905717</td>\n",
              "      <td>4.839370</td>\n",
              "      <td>48884.0</td>\n",
              "    </tr>\n",
              "    <tr>\n",
              "      <th>3184</th>\n",
              "      <td>9.465297</td>\n",
              "      <td>-0.062436</td>\n",
              "      <td>9.793715</td>\n",
              "      <td>56700.0</td>\n",
              "    </tr>\n",
              "    <tr>\n",
              "      <th>16154</th>\n",
              "      <td>-4.812061</td>\n",
              "      <td>3.478167</td>\n",
              "      <td>-14.940353</td>\n",
              "      <td>56700.0</td>\n",
              "    </tr>\n",
              "    <tr>\n",
              "      <th>16821</th>\n",
              "      <td>6.367405</td>\n",
              "      <td>-2.412194</td>\n",
              "      <td>-1.126285</td>\n",
              "      <td>48884.0</td>\n",
              "    </tr>\n",
              "    <tr>\n",
              "      <th>537</th>\n",
              "      <td>3.275737</td>\n",
              "      <td>2.414658</td>\n",
              "      <td>0.076900</td>\n",
              "      <td>48884.0</td>\n",
              "    </tr>\n",
              "    <tr>\n",
              "      <th>24160</th>\n",
              "      <td>4.243713</td>\n",
              "      <td>-2.986864</td>\n",
              "      <td>6.956008</td>\n",
              "      <td>48884.0</td>\n",
              "    </tr>\n",
              "    <tr>\n",
              "      <th>29899</th>\n",
              "      <td>-10.542496</td>\n",
              "      <td>7.908948</td>\n",
              "      <td>1.539736</td>\n",
              "      <td>48884.0</td>\n",
              "    </tr>\n",
              "    <tr>\n",
              "      <th>18657</th>\n",
              "      <td>6.707676</td>\n",
              "      <td>-3.392110</td>\n",
              "      <td>-8.863865</td>\n",
              "      <td>56700.0</td>\n",
              "    </tr>\n",
              "    <tr>\n",
              "      <th>6154</th>\n",
              "      <td>-11.978354</td>\n",
              "      <td>0.959868</td>\n",
              "      <td>-9.097419</td>\n",
              "      <td>56700.0</td>\n",
              "    </tr>\n",
              "    <tr>\n",
              "      <th>6821</th>\n",
              "      <td>7.067163</td>\n",
              "      <td>-1.705462</td>\n",
              "      <td>1.203427</td>\n",
              "      <td>48884.0</td>\n",
              "    </tr>\n",
              "    <tr>\n",
              "      <th>8657</th>\n",
              "      <td>-9.344887</td>\n",
              "      <td>4.684435</td>\n",
              "      <td>-2.712384</td>\n",
              "      <td>56700.0</td>\n",
              "    </tr>\n",
              "    <tr>\n",
              "      <th>10004</th>\n",
              "      <td>5.625211</td>\n",
              "      <td>-0.878188</td>\n",
              "      <td>-0.513240</td>\n",
              "      <td>56700.0</td>\n",
              "    </tr>\n",
              "    <tr>\n",
              "      <th>4</th>\n",
              "      <td>9.797857</td>\n",
              "      <td>-3.136563</td>\n",
              "      <td>3.488843</td>\n",
              "      <td>56700.0</td>\n",
              "    </tr>\n",
              "    <tr>\n",
              "      <th>5833</th>\n",
              "      <td>6.489922</td>\n",
              "      <td>3.006397</td>\n",
              "      <td>-5.800658</td>\n",
              "      <td>5154.0</td>\n",
              "    </tr>\n",
              "    <tr>\n",
              "      <th>13867</th>\n",
              "      <td>-5.735331</td>\n",
              "      <td>2.537271</td>\n",
              "      <td>-4.231985</td>\n",
              "      <td>25733.0</td>\n",
              "    </tr>\n",
              "    <tr>\n",
              "      <th>7436</th>\n",
              "      <td>0.934909</td>\n",
              "      <td>-0.891421</td>\n",
              "      <td>-1.752683</td>\n",
              "      <td>25107.0</td>\n",
              "    </tr>\n",
              "    <tr>\n",
              "      <th>11915</th>\n",
              "      <td>4.575746</td>\n",
              "      <td>0.338792</td>\n",
              "      <td>2.407516</td>\n",
              "      <td>25733.0</td>\n",
              "    </tr>\n",
              "    <tr>\n",
              "      <th>16783</th>\n",
              "      <td>-5.667397</td>\n",
              "      <td>-13.664062</td>\n",
              "      <td>-0.217101</td>\n",
              "      <td>2478.0</td>\n",
              "    </tr>\n",
              "    <tr>\n",
              "      <th>1915</th>\n",
              "      <td>0.435608</td>\n",
              "      <td>0.761291</td>\n",
              "      <td>2.946903</td>\n",
              "      <td>25733.0</td>\n",
              "    </tr>\n",
              "    <tr>\n",
              "      <th>4958</th>\n",
              "      <td>6.183174</td>\n",
              "      <td>-4.102125</td>\n",
              "      <td>4.676889</td>\n",
              "      <td>2478.0</td>\n",
              "    </tr>\n",
              "    <tr>\n",
              "      <th>8871</th>\n",
              "      <td>-4.047277</td>\n",
              "      <td>-4.159490</td>\n",
              "      <td>2.468839</td>\n",
              "      <td>40637.0</td>\n",
              "    </tr>\n",
              "    <tr>\n",
              "      <th>14903</th>\n",
              "      <td>-2.329839</td>\n",
              "      <td>-0.216093</td>\n",
              "      <td>1.545355</td>\n",
              "      <td>25107.0</td>\n",
              "    </tr>\n",
              "    <tr>\n",
              "      <th>18329</th>\n",
              "      <td>17.093502</td>\n",
              "      <td>2.930011</td>\n",
              "      <td>-3.150667</td>\n",
              "      <td>45067.0</td>\n",
              "    </tr>\n",
              "    <tr>\n",
              "      <th>26267</th>\n",
              "      <td>-7.177653</td>\n",
              "      <td>1.171480</td>\n",
              "      <td>-7.524471</td>\n",
              "      <td>25733.0</td>\n",
              "    </tr>\n",
              "    <tr>\n",
              "      <th>11372</th>\n",
              "      <td>1.004396</td>\n",
              "      <td>-14.181384</td>\n",
              "      <td>2.184376</td>\n",
              "      <td>45067.0</td>\n",
              "    </tr>\n",
              "    <tr>\n",
              "      <th>11881</th>\n",
              "      <td>-8.821654</td>\n",
              "      <td>-0.960429</td>\n",
              "      <td>-2.734509</td>\n",
              "      <td>5154.0</td>\n",
              "    </tr>\n",
              "    <tr>\n",
              "      <th>4173</th>\n",
              "      <td>2.567720</td>\n",
              "      <td>10.333644</td>\n",
              "      <td>7.488135</td>\n",
              "      <td>5154.0</td>\n",
              "    </tr>\n",
              "  </tbody>\n",
              "</table>\n",
              "</div>"
            ],
            "text/plain": [
              "             PC1        PC2        PC3    label\n",
              "13184  10.760157   2.861496   8.296907  56700.0\n",
              "6155    1.390484   0.852753   5.830827  48884.0\n",
              "10537  -9.006827  -4.299463  -2.905126  48884.0\n",
              "16155   1.000165   0.905717   4.839370  48884.0\n",
              "3184    9.465297  -0.062436   9.793715  56700.0\n",
              "16154  -4.812061   3.478167 -14.940353  56700.0\n",
              "16821   6.367405  -2.412194  -1.126285  48884.0\n",
              "537     3.275737   2.414658   0.076900  48884.0\n",
              "24160   4.243713  -2.986864   6.956008  48884.0\n",
              "29899 -10.542496   7.908948   1.539736  48884.0\n",
              "18657   6.707676  -3.392110  -8.863865  56700.0\n",
              "6154  -11.978354   0.959868  -9.097419  56700.0\n",
              "6821    7.067163  -1.705462   1.203427  48884.0\n",
              "8657   -9.344887   4.684435  -2.712384  56700.0\n",
              "10004   5.625211  -0.878188  -0.513240  56700.0\n",
              "4       9.797857  -3.136563   3.488843  56700.0\n",
              "5833    6.489922   3.006397  -5.800658   5154.0\n",
              "13867  -5.735331   2.537271  -4.231985  25733.0\n",
              "7436    0.934909  -0.891421  -1.752683  25107.0\n",
              "11915   4.575746   0.338792   2.407516  25733.0\n",
              "16783  -5.667397 -13.664062  -0.217101   2478.0\n",
              "1915    0.435608   0.761291   2.946903  25733.0\n",
              "4958    6.183174  -4.102125   4.676889   2478.0\n",
              "8871   -4.047277  -4.159490   2.468839  40637.0\n",
              "14903  -2.329839  -0.216093   1.545355  25107.0\n",
              "18329  17.093502   2.930011  -3.150667  45067.0\n",
              "26267  -7.177653   1.171480  -7.524471  25733.0\n",
              "11372   1.004396 -14.181384   2.184376  45067.0\n",
              "11881  -8.821654  -0.960429  -2.734509   5154.0\n",
              "4173    2.567720  10.333644   7.488135   5154.0"
            ]
          },
          "metadata": {
            "tags": []
          },
          "execution_count": 21
        }
      ]
    },
    {
      "metadata": {
        "id": "HB3eE6LHhTnb",
        "colab_type": "code",
        "outputId": "e0377d01-2cb9-4c76-90a0-67eff714ab27",
        "colab": {
          "base_uri": "https://localhost:8080/",
          "height": 34
        }
      },
      "cell_type": "code",
      "source": [
        "np.shape(np.unique(labels_map))"
      ],
      "execution_count": 0,
      "outputs": [
        {
          "output_type": "execute_result",
          "data": {
            "text/plain": [
              "(200,)"
            ]
          },
          "metadata": {
            "tags": []
          },
          "execution_count": 90
        }
      ]
    },
    {
      "metadata": {
        "id": "aQGm85W0gkFr",
        "colab_type": "code",
        "colab": {}
      },
      "cell_type": "code",
      "source": [
        "facet = sns.scatterplot(data=df[:30], x='PC1', y='PC2', hue='label')\n"
      ],
      "execution_count": 0,
      "outputs": []
    },
    {
      "metadata": {
        "id": "P5StubgTsP58",
        "colab_type": "code",
        "outputId": "7716235e-0bd2-4878-e5e9-ecee904a1a7d",
        "colab": {
          "base_uri": "https://localhost:8080/",
          "height": 650
        }
      },
      "cell_type": "code",
      "source": [
        "import time\n",
        "\n",
        "from sklearn.manifold import TSNE\n",
        "\n",
        "time_start = time.time()\n",
        "tsne = TSNE(n_components=2, verbose=1, perplexity=40, n_iter=500)\n",
        "tsne_results = tsne.fit_transform(df.values)\n"
      ],
      "execution_count": 0,
      "outputs": [
        {
          "output_type": "stream",
          "text": [
            "[t-SNE] Computing 121 nearest neighbors...\n",
            "[t-SNE] Indexed 30000 samples in 0.061s...\n",
            "[t-SNE] Computed neighbors for 30000 samples in 1.270s...\n",
            "[t-SNE] Computed conditional probabilities for sample 1000 / 30000\n",
            "[t-SNE] Computed conditional probabilities for sample 2000 / 30000\n",
            "[t-SNE] Computed conditional probabilities for sample 3000 / 30000\n",
            "[t-SNE] Computed conditional probabilities for sample 4000 / 30000\n",
            "[t-SNE] Computed conditional probabilities for sample 5000 / 30000\n",
            "[t-SNE] Computed conditional probabilities for sample 6000 / 30000\n",
            "[t-SNE] Computed conditional probabilities for sample 7000 / 30000\n",
            "[t-SNE] Computed conditional probabilities for sample 8000 / 30000\n",
            "[t-SNE] Computed conditional probabilities for sample 9000 / 30000\n",
            "[t-SNE] Computed conditional probabilities for sample 10000 / 30000\n",
            "[t-SNE] Computed conditional probabilities for sample 11000 / 30000\n",
            "[t-SNE] Computed conditional probabilities for sample 12000 / 30000\n",
            "[t-SNE] Computed conditional probabilities for sample 13000 / 30000\n",
            "[t-SNE] Computed conditional probabilities for sample 14000 / 30000\n",
            "[t-SNE] Computed conditional probabilities for sample 15000 / 30000\n",
            "[t-SNE] Computed conditional probabilities for sample 16000 / 30000\n",
            "[t-SNE] Computed conditional probabilities for sample 17000 / 30000\n",
            "[t-SNE] Computed conditional probabilities for sample 18000 / 30000\n",
            "[t-SNE] Computed conditional probabilities for sample 19000 / 30000\n",
            "[t-SNE] Computed conditional probabilities for sample 20000 / 30000\n",
            "[t-SNE] Computed conditional probabilities for sample 21000 / 30000\n",
            "[t-SNE] Computed conditional probabilities for sample 22000 / 30000\n",
            "[t-SNE] Computed conditional probabilities for sample 23000 / 30000\n",
            "[t-SNE] Computed conditional probabilities for sample 24000 / 30000\n",
            "[t-SNE] Computed conditional probabilities for sample 25000 / 30000\n",
            "[t-SNE] Computed conditional probabilities for sample 26000 / 30000\n",
            "[t-SNE] Computed conditional probabilities for sample 27000 / 30000\n",
            "[t-SNE] Computed conditional probabilities for sample 28000 / 30000\n",
            "[t-SNE] Computed conditional probabilities for sample 29000 / 30000\n",
            "[t-SNE] Computed conditional probabilities for sample 30000 / 30000\n",
            "[t-SNE] Mean sigma: 11.595320\n",
            "[t-SNE] KL divergence after 250 iterations with early exaggeration: 71.866982\n",
            "[t-SNE] KL divergence after 500 iterations: 1.602890\n"
          ],
          "name": "stdout"
        }
      ]
    },
    {
      "metadata": {
        "id": "NN0OEXVQtgFm",
        "colab_type": "code",
        "colab": {}
      },
      "cell_type": "code",
      "source": [
        "df_tsne = df.copy()\n",
        "df_tsne['x-tsne'] = tsne_results[:,0]\n",
        "df_tsne['y-tsne'] = tsne_results[:,1]"
      ],
      "execution_count": 0,
      "outputs": []
    },
    {
      "metadata": {
        "id": "vgHhEnhjuRmA",
        "colab_type": "code",
        "colab": {}
      },
      "cell_type": "code",
      "source": [
        "sns.set_style('ticks')\n",
        "plt.figure(figsize=(5,5))\n",
        "facet = sns.scatterplot(data=df_tsne, x='x-tsne', y='y-tsne', hue='label')\n",
        "facet.labels(\"$x-tsne$\", \"$y-tsne$\",fontsize=18)"
      ],
      "execution_count": 0,
      "outputs": []
    },
    {
      "metadata": {
        "id": "BCfKQUafwtpU",
        "colab_type": "code",
        "outputId": "a2fedfcf-37c7-432c-affd-7db693ffaefe",
        "colab": {
          "base_uri": "https://localhost:8080/",
          "height": 700
        }
      },
      "cell_type": "code",
      "source": [
        "# Plot distance distribution\n",
        "sns.set_style('ticks')\n",
        "plt.figure(figsize=(2,5))\n",
        "g = (sns.jointplot(x=positive_distance, y=negative_distance, kind=\"hex\",color = 'r',\n",
        "                   xlim = (0,8), ylim = (0,8), ratio = 3, space=0)\n",
        "     .set_axis_labels(\"$d(A_i,P_i)$\", \"$d(A_i,N_i)$\",fontsize=18))\n",
        "g.ax_joint.legend_.remove()\n",
        "g.fig.suptitle('Pairwise distances \\n Hardnet 1 epoch (noisy)', fontsize=20)\n",
        "g.ax_joint.plot([0,8], [0,8], 'k',linewidth = 1)"
      ],
      "execution_count": 0,
      "outputs": [
        {
          "output_type": "error",
          "ename": "AttributeError",
          "evalue": "ignored",
          "traceback": [
            "\u001b[0;31m\u001b[0m",
            "\u001b[0;31mAttributeError\u001b[0mTraceback (most recent call last)",
            "\u001b[0;32m<ipython-input-71-17eb33929dcd>\u001b[0m in \u001b[0;36m<module>\u001b[0;34m()\u001b[0m\n\u001b[1;32m      4\u001b[0m                    xlim = (0,8), ylim = (0,8), ratio = 3, space=0)\n\u001b[1;32m      5\u001b[0m      .set_axis_labels(\"$d(A_i,P_i)$\", \"$d(A_i,N_i)$\",fontsize=18))\n\u001b[0;32m----> 6\u001b[0;31m \u001b[0mg\u001b[0m\u001b[0;34m.\u001b[0m\u001b[0max_joint\u001b[0m\u001b[0;34m.\u001b[0m\u001b[0mlegend_\u001b[0m\u001b[0;34m.\u001b[0m\u001b[0mremove\u001b[0m\u001b[0;34m(\u001b[0m\u001b[0;34m)\u001b[0m\u001b[0;34m\u001b[0m\u001b[0m\n\u001b[0m\u001b[1;32m      7\u001b[0m \u001b[0mg\u001b[0m\u001b[0;34m.\u001b[0m\u001b[0mfig\u001b[0m\u001b[0;34m.\u001b[0m\u001b[0msuptitle\u001b[0m\u001b[0;34m(\u001b[0m\u001b[0;34m'Pairwise distances \\n Hardnet 1 epoch (noisy)'\u001b[0m\u001b[0;34m,\u001b[0m \u001b[0mfontsize\u001b[0m\u001b[0;34m=\u001b[0m\u001b[0;36m20\u001b[0m\u001b[0;34m)\u001b[0m\u001b[0;34m\u001b[0m\u001b[0m\n\u001b[1;32m      8\u001b[0m \u001b[0mg\u001b[0m\u001b[0;34m.\u001b[0m\u001b[0max_joint\u001b[0m\u001b[0;34m.\u001b[0m\u001b[0mplot\u001b[0m\u001b[0;34m(\u001b[0m\u001b[0;34m[\u001b[0m\u001b[0;36m0\u001b[0m\u001b[0;34m,\u001b[0m\u001b[0;36m8\u001b[0m\u001b[0;34m]\u001b[0m\u001b[0;34m,\u001b[0m \u001b[0;34m[\u001b[0m\u001b[0;36m0\u001b[0m\u001b[0;34m,\u001b[0m\u001b[0;36m8\u001b[0m\u001b[0;34m]\u001b[0m\u001b[0;34m,\u001b[0m \u001b[0;34m'k'\u001b[0m\u001b[0;34m,\u001b[0m\u001b[0mlinewidth\u001b[0m \u001b[0;34m=\u001b[0m \u001b[0;36m1\u001b[0m\u001b[0;34m)\u001b[0m\u001b[0;34m\u001b[0m\u001b[0m\n",
            "\u001b[0;31mAttributeError\u001b[0m: 'NoneType' object has no attribute 'remove'"
          ]
        },
        {
          "output_type": "display_data",
          "data": {
            "text/plain": [
              "<Figure size 144x360 with 0 Axes>"
            ]
          },
          "metadata": {
            "tags": []
          }
        },
        {
          "output_type": "display_data",
          "data": {
            "image/png": "[encoded data removed]",
            "text/plain": [
              "<Figure size 432x432 with 3 Axes>"
            ]
          },
          "metadata": {
            "tags": []
          }
        }
      ]
    },
    {
      "metadata": {
        "id": "l6dnJyhWyCIe",
        "colab_type": "code",
        "colab": {}
      },
      "cell_type": "code",
      "source": [
        ""
      ],
      "execution_count": 0,
      "outputs": []
    },
    {
      "metadata": {
        "id": "xUdt2ZateJdF",
        "colab_type": "text"
      },
      "cell_type": "markdown",
      "source": [
        "# Evaluation section"
      ]
    },
    {
      "metadata": {
        "id": "NJ-r9D4hDxij",
        "colab_type": "text"
      },
      "cell_type": "markdown",
      "source": [
        "## Generating descriptors files for test data \n",
        "\n",
        "To evaluate the performance of out model we use the existing evaluation code  **HPatches benchmark**, which generates a .csv and then compute the three benchmarking metrics."
      ]
    },
    {
      "metadata": {
        "id": "kiJb2XDG9bsJ",
        "colab_type": "code",
        "colab": {}
      },
      "cell_type": "code",
      "source": [
        "generate_desc_csv(descripto_to_eval, seqs_test, denoise_model=denoiser_to_eval, use_clean = use_clean_bool)"
      ],
      "execution_count": 0,
      "outputs": []
    },
    {
      "metadata": {
        "id": "s0jFr05rE1oI",
        "colab_type": "text"
      },
      "cell_type": "markdown",
      "source": [
        "## Evaluating descriptors in HPatches Benchmark\n",
        "We use HPatches benchmark code to compute the results for our model."
      ]
    },
    {
      "metadata": {
        "id": "K54OaUFHzvJy",
        "colab_type": "text"
      },
      "cell_type": "markdown",
      "source": [
        "### Verification"
      ]
    },
    {
      "metadata": {
        "id": "Awnyv4xTYSFH",
        "colab_type": "code",
        "colab": {}
      },
      "cell_type": "code",
      "source": [
        "!python ./hpatches-benchmark/hpatches_eval.py --descr-name=custom --descr-dir=/content/keras_triplet_descriptor/out/ --task=verification --delimiter=\";\"\n",
        "!python ./hpatches-benchmark/hpatches_results.py --descr=custom --results-dir=./hpatches-benchmark/results/ --task=verification\n"
      ],
      "execution_count": 0,
      "outputs": []
    },
    {
      "metadata": {
        "id": "5290Bw-udJdr",
        "colab_type": "text"
      },
      "cell_type": "markdown",
      "source": [
        "### Matching\n",
        "Image matching, tests to what extent a descriptor can correctly identify correspondences in two images."
      ]
    },
    {
      "metadata": {
        "id": "EUqpwi87ckJv",
        "colab_type": "code",
        "colab": {}
      },
      "cell_type": "code",
      "source": [
        "!python ./hpatches-benchmark/hpatches_eval.py --descr-name=custom --descr-dir=/content/keras_triplet_descriptor/out/ --task=matching --delimiter=\";\"\n",
        "!python ./hpatches-benchmark/hpatches_results.py --descr=custom --results-dir=./hpatches-benchmark/results/ --task=matching\n"
      ],
      "execution_count": 0,
      "outputs": []
    },
    {
      "metadata": {
        "id": "RXXgbN7DdMnx",
        "colab_type": "text"
      },
      "cell_type": "markdown",
      "source": [
        "### Retrieval\n",
        "Retrieval tests how well a descriptor can match a query patch to a pool of patches extracted from many images."
      ]
    },
    {
      "metadata": {
        "id": "ZNmKIat1cn_M",
        "colab_type": "code",
        "colab": {}
      },
      "cell_type": "code",
      "source": [
        "!python ./hpatches-benchmark/hpatches_eval.py --descr-name=custom --descr-dir=/content/keras_triplet_descriptor/out/ --task=retrieval --delimiter=\";\"\n",
        "!python ./hpatches-benchmark/hpatches_results.py --descr=custom --results-dir=./hpatches-benchmark/results/ --task=retrieval"
      ],
      "execution_count": 0,
      "outputs": []
    }
  ]
}